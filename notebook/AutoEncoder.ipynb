{
 "cells": [
  {
   "cell_type": "markdown",
   "metadata": {},
   "source": [
    "# Abordagem Inicial \n",
    "\n",
    "## Objetivo \n",
    "\n",
    "### Propor método para:\n",
    "* encontrar representações comuns de diferentes modalidades sensoriais\n",
    "* aumentar a quantidade de dados utilizados para redução de dimensionalidade do sinal\n",
    "* melhorar a sensibilidade de análises MVPA posteriores \n",
    "\n",
    "### Inicialmente codificar cada instante de tempo (sem usar janelas no tempo)\n",
    "### Decodificar o momento que estava na mesma e na outra modalidade a partir do estado reduzido\n",
    "* Comparar com decodificação usando: (1) Sinais originais, (2) PCA geral, (3) PCA em cada ponto, (4) Auto-encoder\n",
    "### Ver sobre use da auto-encoders e VAEs\n",
    "### Checar sobre predição da reprodução do intervalo temporal\n"
   ]
  },
  {
   "cell_type": "code",
   "execution_count": 1,
   "metadata": {
    "ExecuteTime": {
     "end_time": "2020-09-01T13:20:43.609845Z",
     "start_time": "2020-09-01T13:20:43.391002Z"
    }
   },
   "outputs": [],
   "source": [
    "import pandas as pd"
   ]
  },
  {
   "cell_type": "code",
   "execution_count": 2,
   "metadata": {
    "ExecuteTime": {
     "end_time": "2020-09-01T13:20:44.555451Z",
     "start_time": "2020-09-01T13:20:44.550142Z"
    }
   },
   "outputs": [],
   "source": [
    "PATH_FOLDER = '../data/processed/' "
   ]
  },
  {
   "cell_type": "raw",
   "metadata": {},
   "source": [
    "aud_1 =  pd.read_csv(PATH_FOLDER+'auditory_exposure_1_autoenconder.csv')\n",
    "aud_2 =  pd.read_csv(PATH_FOLDER+'auditory_exposure_2_autoenconder.csv') \n",
    "vis_1 =  pd.read_csv(PATH_FOLDER+'visual_exposure_1_autoenconder.csv') \n",
    "vis_2 =  pd.read_csv(PATH_FOLDER+'visual_exposure_2_autoenconder.csv')"
   ]
  },
  {
   "cell_type": "code",
   "execution_count": 3,
   "metadata": {
    "ExecuteTime": {
     "end_time": "2020-09-01T13:20:46.265416Z",
     "start_time": "2020-09-01T13:20:45.952676Z"
    }
   },
   "outputs": [],
   "source": [
    "aud_1 =  pd.read_csv(PATH_FOLDER+'auditory_exposure_1.csv')\n",
    "aud_2 =  pd.read_csv(PATH_FOLDER+'auditory_exposure_2.csv') \n",
    "vis_1 =  pd.read_csv(PATH_FOLDER+'visual_exposure_1.csv') \n",
    "vis_2 =  pd.read_csv(PATH_FOLDER+'visual_exposure_2.csv')"
   ]
  },
  {
   "cell_type": "markdown",
   "metadata": {},
   "source": [
    "### Passo 1: treinar com dados completos capturados do experimento\n",
    "* Entrada e saída como o mesmo sinal (um número para cada eletrodo)\n",
    "* Usar uma rede fully connected e auto-encoder padrão\n",
    "    * 64(E) - 32 - 16 - 32 - 64(S)\n",
    "    * Fazer testes verificando o erro de reconstrução\n",
    "* Uma rede por voluntário e por modalidade\n",
    "* Pouca quantidade de dados -> incluir regularização, como dropout, para evitar overfitting\n"
   ]
  },
  {
   "cell_type": "markdown",
   "metadata": {},
   "source": [
    "# Por voluntário"
   ]
  },
  {
   "cell_type": "code",
   "execution_count": 1,
   "metadata": {
    "ExecuteTime": {
     "end_time": "2020-09-01T19:12:25.558451Z",
     "start_time": "2020-09-01T19:12:25.553625Z"
    }
   },
   "outputs": [],
   "source": [
    "import sys\n",
    "\n",
    "sys.path.append(\"../src/data/\")\n",
    "sys.path.append(\"../src/tools/\")\n",
    "sys.path.append(\"../src/models/\")\n",
    "sys.path.append(\"../src/external/\")\n",
    "sys.path.append(\"../src/visualization/\")"
   ]
  },
  {
   "cell_type": "code",
   "execution_count": 7,
   "metadata": {
    "ExecuteTime": {
     "end_time": "2020-03-19T15:10:43.655789Z",
     "start_time": "2020-03-19T15:10:24.469131Z"
    }
   },
   "outputs": [],
   "source": [
    "from variational_auto_enconder import variationalAutoEnconder"
   ]
  },
  {
   "cell_type": "code",
   "execution_count": 2,
   "metadata": {
    "ExecuteTime": {
     "end_time": "2020-09-01T19:12:41.616190Z",
     "start_time": "2020-09-01T19:12:27.183529Z"
    }
   },
   "outputs": [
    {
     "name": "stdout",
     "output_type": "stream",
     "text": [
      "1 items had no tests:\n",
      "    __main__\n",
      "0 tests in 1 items.\n",
      "0 passed and 0 failed.\n",
      "Test passed.\n"
     ]
    },
    {
     "name": "stderr",
     "output_type": "stream",
     "text": [
      "../src/models/classification.py:2: TqdmExperimentalWarning: Using `tqdm.autonotebook.tqdm` in notebook mode. Use `tqdm.tqdm` instead to force console mode (e.g. in jupyter console)\n",
      "  from tqdm.autonotebook import tqdm\n"
     ]
    }
   ],
   "source": [
    "from file import *\n",
    "from conversion import *\n",
    "from exposure import _exposure_1, _exposure_2, _exposure_1_bad, _exposure_2_bad, get_group_time, fixing_bad_trials, get_last_125ms\n",
    "from classification import *\n",
    "from statistical_tests import *\n",
    "from report import *"
   ]
  },
  {
   "cell_type": "code",
   "execution_count": 3,
   "metadata": {
    "ExecuteTime": {
     "end_time": "2020-09-01T19:12:57.225405Z",
     "start_time": "2020-09-01T19:12:41.621439Z"
    }
   },
   "outputs": [],
   "source": [
    "from tqdm.autonotebook import tqdm\n",
    "import numpy as np\n",
    "from sklearn.decomposition import PCA\n",
    "from tensorflow.keras import regularizers\n",
    "from sklearn.naive_bayes import GaussianNB\n",
    "from sklearn.model_selection import LeaveOneOut\n"
   ]
  },
  {
   "cell_type": "code",
   "execution_count": 4,
   "metadata": {
    "ExecuteTime": {
     "end_time": "2020-09-01T19:12:57.232048Z",
     "start_time": "2020-09-01T19:12:57.226517Z"
    }
   },
   "outputs": [],
   "source": [
    "from sklearn.model_selection import LeaveOneOut\n",
    "from tqdm.autonotebook import tqdm\n",
    "from numpy import average, subtract\n",
    "from sklearn.naive_bayes import GaussianNB\n",
    "from sklearn.decomposition import PCA\n",
    "from pandas import DataFrame, concat\n",
    "\n",
    "from sklearn.model_selection import cross_validate\n",
    "from sklearn.metrics import accuracy_score,precision_score, f1_score, roc_auc_score, make_scorer, recall_score \n"
   ]
  },
  {
   "cell_type": "code",
   "execution_count": 5,
   "metadata": {
    "ExecuteTime": {
     "end_time": "2020-09-01T19:12:57.354598Z",
     "start_time": "2020-09-01T19:12:57.232841Z"
    }
   },
   "outputs": [],
   "source": [
    "def methods_classification(n_neighbors=3,\n",
    "                           kernel_a='linear', kernel_b='rbf', gamma='auto',\n",
    "                           max_depth=5,\n",
    "                           n_estimators=10, random_state=42, max_features=1):\n",
    "    \"\"\"\n",
    "\n",
    "    Parameters\n",
    "    ----------\n",
    "    n_neighbors\n",
    "    kernel_a\n",
    "    kernel_b\n",
    "    gamma\n",
    "    max_depth\n",
    "    n_estimators\n",
    "    random_state\n",
    "    max_features\n",
    "    max_iter\n",
    "    \"\"\"\n",
    "    # K-NN\n",
    "    from sklearn.neighbors import KNeighborsClassifier\n",
    "    # SVM (linear and radial)\n",
    "    from sklearn import svm\n",
    "    # Decision tree\n",
    "    from sklearn.tree import DecisionTreeClassifier\n",
    "    # random forests\n",
    "    from sklearn.ensemble import RandomForestClassifier, VotingClassifier\n",
    "    # MLPClassifier\n",
    "    from sklearn.neural_network import MLPClassifier\n",
    "    # AdaBoostClassifier\n",
    "    from sklearn.ensemble import AdaBoostClassifier\n",
    "    # GaussianNB\n",
    "    from sklearn.naive_bayes import GaussianNB\n",
    "\n",
    "    knn = KNeighborsClassifier(n_neighbors=n_neighbors)  # 1\n",
    "    SVM1 = svm.SVC(kernel=kernel_a)  # 2\n",
    "    SVM2 = svm.SVC(kernel=kernel_b, gamma=gamma)  # 3\n",
    "    DT = DecisionTreeClassifier(max_depth=max_depth)  # 4\n",
    "    RF = RandomForestClassifier(\n",
    "        n_estimators=n_estimators, random_state=random_state, max_features=max_features)  # 5\n",
    "    MLP = MLPClassifier()  # 6\n",
    "    ADB = AdaBoostClassifier(random_state=random_state)  # 7\n",
    "    #from sklearn.naive_bayes import GaussianNB\n",
    "    GaussianNB_ = GaussianNB()  # 8\n",
    "    \n",
    "    GaussianNB_.class_prior_ = [(1/6),(1/6),(1/6),(1/6),(1/6),(1/6)]\n",
    "\n",
    "    ensemble = VotingClassifier(estimators=[('k-NN', knn), ('SVM1', SVM1), ('SVM2', SVM2),\n",
    "                                            ('DT', DT), ('RF', RF), ('MLP', MLP), \n",
    "                                            ('ADB', ADB),\n",
    "                                            ('GNB', GaussianNB_)], voting='hard')\n",
    "\n",
    "    classifiers = [('k-NN', knn), ('SVM1', SVM1), ('SVM2', SVM2), ('DT', DT), ('RF', RF),\n",
    "                   ('MLP', MLP), ('ADB', ADB), ('GNB', GaussianNB_),\n",
    "                   (\"Ensemble\", ensemble)]\n",
    "\n",
    "    return classifiers\n",
    "\n"
   ]
  },
  {
   "cell_type": "code",
   "execution_count": 6,
   "metadata": {
    "ExecuteTime": {
     "end_time": "2020-09-01T19:12:57.444635Z",
     "start_time": "2020-09-01T19:12:57.359349Z"
    }
   },
   "outputs": [],
   "source": [
    "def fit_method(classifiers, X_train, Y_train):\n",
    "    \"\"\"\n",
    "    REALLY unoptimized function to save the metrics.\n",
    "\n",
    "    \"\"\"\n",
    "    \n",
    "    for classifier_name, classifier in classifiers:\n",
    "        classifier.fit(X_train, Y_train)\n",
    "\n",
    "\n",
    "    return classifiers\n",
    "\n",
    "def predict_method(classifiers, X_test, Y_test):\n",
    "    \"\"\"\n",
    "    REALLY unoptimized function to save the metrics.\n",
    "\n",
    "    \"\"\"\n",
    "    metrics = []\n",
    "    for classifier_name, classifier in classifiers:\n",
    "        Y_pred = classifier.predict(X_test)\n",
    "        \n",
    "        acc = accuracy_score(Y_test ,Y_pred)\n",
    "        pre = precision_score(Y_test ,Y_pred, average='weighted')\n",
    "        rec = recall_score(Y_test ,Y_pred, average='weighted')\n",
    "        f1  = f1_score(Y_test ,Y_pred, average='weighted')\n",
    "        #roc = roc_auc_score(Y_test ,Y_pred, average='weighted', multi_class='ovr')\n",
    "        \n",
    "        metrics.append([acc,pre,rec,f1])\n",
    "\n",
    "    return metrics"
   ]
  },
  {
   "cell_type": "code",
   "execution_count": 33,
   "metadata": {
    "ExecuteTime": {
     "end_time": "2020-09-01T19:32:26.799510Z",
     "start_time": "2020-09-01T19:32:26.792365Z"
    }
   },
   "outputs": [],
   "source": [
    "def classification_autoEncoder(dataFrame, categoria, exposure):\n",
    "    '''\n",
    "\n",
    "\n",
    "\n",
    "\n",
    "\n",
    "\n",
    "    '''\n",
    "\n",
    "\n",
    "    dataFrame_result = []\n",
    "    history = []\n",
    "\n",
    "    for ind, pearson in tqdm(dataFrame.groupby('people')):\n",
    "\n",
    "        X = pearson.drop(['trial', 'group', 'people'], 1)\n",
    "        y = pearson['group']\n",
    "\n",
    "        X_train, X_test, y_train, y_test = train_test_split(X, y, test_size=0.2, random_state=42)\n",
    "        \n",
    "\n",
    "        train_mean = np.average(X_train, axis=0)\n",
    "\n",
    "        X_train_without_mean = np.subtract(X_train, train_mean)\n",
    "        X_test_without_mean = np.subtract(X_test, train_mean)\n",
    "\n",
    "        X_train_without_mean = X_train_without_mean.T\n",
    "        X_test_without_mean = X_test_without_mean.T\n",
    "        \n",
    "        \n",
    "        autoEncoder_ = AutoEnconder(epochs=1000,\n",
    "                                       batch_size=32,\n",
    "                                       validation_size=[],\n",
    "                                       random_state=42,\n",
    "                                       regularizer=regularizers.l1(10e-5),\n",
    "                                       exposure=exposure,\n",
    "                                       modality=categoria)\n",
    "\n",
    "        autoEncoder_.make_auto_enconder(16)\n",
    "\n",
    "        autoEncoder_.fit(X_train_without_mean)\n",
    "        \n",
    "        \n",
    "        history.append(autoEncoder_.history)\n",
    "        \n",
    "                                                                                                                                                                                                                                                                                                                                                                                                                                                                                                                                                                                                                                                                                                                                                                                                                                                                                                                                                                                                                                                                                                                                                                                                                                                                                                                                                                                                                                                                                                                                                                                                                                                                                                                                                                                                                                                                                                                                                                                                                                                                                                                                                                                                                                                                                                                                                                                                                                                                                                                                                                                                              \n",
    "        X_train_auto = autoEncoder_.transform(X_train_without_mean.T)\n",
    "\n",
    "        X_test_auto = autoEncoder_.transform(X_test_without_mean.T)\n",
    "\n",
    "       \n",
    "        clf = methods_classification()\n",
    "        #import pdb; pdb.set_trace()\n",
    "        \n",
    "        clf = fit_method(clf, X_train, y_train)\n",
    "        \n",
    "        historico = predict_method(clf, X_test, y_test)\n",
    "        \n",
    "        dataFrame_result.append([ind, historico, categoria, exposure])\n",
    "\n",
    "            \n",
    "    return dataFrame_result, history"
   ]
  },
  {
   "cell_type": "code",
   "execution_count": 43,
   "metadata": {
    "ExecuteTime": {
     "end_time": "2020-09-01T19:35:21.523861Z",
     "start_time": "2020-09-01T19:35:21.516591Z"
    }
   },
   "outputs": [],
   "source": [
    "def classification_autoEncoder(dataFrame, categoria, exposure):\n",
    "    '''\n",
    "\n",
    "\n",
    "\n",
    "\n",
    "\n",
    "\n",
    "    '''\n",
    "\n",
    "    dataFrame_result = []\n",
    "    history = []\n",
    "\n",
    "    for ind, pearson in tqdm(dataFrame.groupby('people')):\n",
    "\n",
    "        X = dataFrame.drop(['trial', 'group', 'people'], 1)\n",
    "        y = dataFrame['group']\n",
    "\n",
    "        X_train, X_test, y_train, y_test = train_test_split(X, y, test_size=0.2, random_state=42)\n",
    "        \n",
    "        \n",
    "        train_mean = np.average(X_train, axis=0)\n",
    "\n",
    "        X_train_without_mean = np.subtract(X_train, train_mean)\n",
    "        X_test_without_mean = np.subtract(X_test, train_mean)\n",
    "\n",
    "        X_train_without_mean = X_train_without_mean.T\n",
    "        X_test_without_mean = X_test_without_mean.T\n",
    "\n",
    "        clf = GaussianNB()\n",
    "\n",
    "        \n",
    "        clf.class_prior_ = [(1/6),(1/6),(1/6),(1/6),(1/6),(1/6)]\n",
    "        \n",
    "        autoEncoder_ = AutoEnconder(epochs=100,\n",
    "                                       batch_size=32,\n",
    "                                       validation_size=[],\n",
    "                                       random_state=42,\n",
    "                                       regularizer=regularizers.l1(10e-5),\n",
    "                                       exposure=exposure,\n",
    "                                       modality=categoria)\n",
    "\n",
    "        autoEncoder_.make_auto_enconder(16)\n",
    "\n",
    "        autoEncoder_.fit(X_train_without_mean)\n",
    "        \n",
    "        history.append(autoEncoder_.history)\n",
    "        \n",
    "        X_train_auto = autoEncoder_.transform(X_train_without_mean.T)\n",
    "\n",
    "        X_test_auto = autoEncoder_.transform(X_test_without_mean.T)\n",
    "\n",
    "\n",
    "        clf = clf.fit(X_train_auto, y_train)\n",
    "\n",
    "        y_pred = clf.predict(X_test_auto)\n",
    "\n",
    "        for y_i_pred, y_i_test in list(zip(y_pred,y_test.values)):\n",
    "            dataFrame_result.append([ind, y_i_pred,y_i_test, categoria, exposure])\n",
    "\n",
    "            \n",
    "    return dataFrame_result, autoEncoder_.history"
   ]
  },
  {
   "cell_type": "code",
   "execution_count": 42,
   "metadata": {
    "ExecuteTime": {
     "end_time": "2020-09-01T19:35:05.089872Z",
     "start_time": "2020-09-01T19:35:05.083425Z"
    }
   },
   "outputs": [],
   "source": [
    "def train_transform_autoEncoder(dataFrame, categoria, exposure):\n",
    "    '''\n",
    "\n",
    "\n",
    "\n",
    "\n",
    "\n",
    "\n",
    "    '''\n",
    "\n",
    "    X = dataFrame.drop(['trial', 'group', 'people'], 1)\n",
    "    y = dataFrame['group']\n",
    "\n",
    "    X_train, X_test, y_train, y_test = train_test_split(X, y, \n",
    "                                                        test_size=0.2, random_state=42)\n",
    "\n",
    "    train_mean = np.average(X_train, axis=0)\n",
    "\n",
    "    X_train_without_mean = np.subtract(X_train, train_mean)\n",
    "    X_test_without_mean = np.subtract(X_test, train_mean)\n",
    "\n",
    "    X_train_without_mean = X_train_without_mean.T\n",
    "    X_test_without_mean = X_test_without_mean.T\n",
    "\n",
    "    autoEncoder_ = AutoEnconder(epochs=100,\n",
    "                                   batch_size=32,\n",
    "                                   validation_size=[],\n",
    "                                   random_state=42,\n",
    "                                   regularizer=regularizers.l1(10e-5),\n",
    "                                   exposure=exposure,\n",
    "                                   modality=categoria)\n",
    "\n",
    "    autoEncoder_.make_auto_enconder(8)\n",
    "\n",
    "    autoEncoder_.fit(X_train_without_mean)\n",
    "\n",
    "    X_train_auto = autoEncoder_.transform(X_train_without_mean.T)\n",
    "\n",
    "    X_test_auto = autoEncoder_.transform(X_test_without_mean.T)\n",
    "\n",
    "            \n",
    "    return X_train_auto, X_test_auto, y_train, y_tes, autoEncoder_"
   ]
  },
  {
   "cell_type": "code",
   "execution_count": 36,
   "metadata": {
    "ExecuteTime": {
     "end_time": "2020-09-01T19:32:35.319550Z",
     "start_time": "2020-09-01T19:32:35.303379Z"
    }
   },
   "outputs": [
    {
     "ename": "AttributeError",
     "evalue": "'numpy.ndarray' object has no attribute 'groupby'",
     "output_type": "error",
     "traceback": [
      "\u001b[0;31m---------------------------------------------------------------------------\u001b[0m",
      "\u001b[0;31mAttributeError\u001b[0m                            Traceback (most recent call last)",
      "\u001b[0;32m<ipython-input-36-d10d4e5c2805>\u001b[0m in \u001b[0;36m<module>\u001b[0;34m\u001b[0m\n\u001b[0;32m----> 1\u001b[0;31m \u001b[0mresu_aud_1\u001b[0m\u001b[0;34m,\u001b[0m \u001b[0mhistory_aud_1\u001b[0m \u001b[0;34m=\u001b[0m \u001b[0mclassification_autoEncoder\u001b[0m\u001b[0;34m(\u001b[0m\u001b[0maud_1\u001b[0m\u001b[0;34m,\u001b[0m\u001b[0;34m'Auditory'\u001b[0m\u001b[0;34m,\u001b[0m\u001b[0;34m'E1'\u001b[0m\u001b[0;34m)\u001b[0m\u001b[0;34m\u001b[0m\u001b[0;34m\u001b[0m\u001b[0m\n\u001b[0m",
      "\u001b[0;32m<ipython-input-34-3fd152f59a49>\u001b[0m in \u001b[0;36mclassification_autoEncoder\u001b[0;34m(dataFrame, categoria, exposure)\u001b[0m\n\u001b[1;32m     12\u001b[0m     \u001b[0mhistory\u001b[0m \u001b[0;34m=\u001b[0m \u001b[0;34m[\u001b[0m\u001b[0;34m]\u001b[0m\u001b[0;34m\u001b[0m\u001b[0;34m\u001b[0m\u001b[0m\n\u001b[1;32m     13\u001b[0m \u001b[0;34m\u001b[0m\u001b[0m\n\u001b[0;32m---> 14\u001b[0;31m     \u001b[0;32mfor\u001b[0m \u001b[0mind\u001b[0m\u001b[0;34m,\u001b[0m \u001b[0mpearson\u001b[0m \u001b[0;32min\u001b[0m \u001b[0mtqdm\u001b[0m\u001b[0;34m(\u001b[0m\u001b[0mdataFrame\u001b[0m\u001b[0;34m.\u001b[0m\u001b[0mgroupby\u001b[0m\u001b[0;34m(\u001b[0m\u001b[0;34m'people'\u001b[0m\u001b[0;34m)\u001b[0m\u001b[0;34m)\u001b[0m\u001b[0;34m:\u001b[0m\u001b[0;34m\u001b[0m\u001b[0;34m\u001b[0m\u001b[0m\n\u001b[0m\u001b[1;32m     15\u001b[0m \u001b[0;34m\u001b[0m\u001b[0m\n\u001b[1;32m     16\u001b[0m         \u001b[0mX\u001b[0m \u001b[0;34m=\u001b[0m \u001b[0mdataFrame\u001b[0m\u001b[0;34m.\u001b[0m\u001b[0mdrop\u001b[0m\u001b[0;34m(\u001b[0m\u001b[0;34m[\u001b[0m\u001b[0;34m'trial'\u001b[0m\u001b[0;34m,\u001b[0m \u001b[0;34m'group'\u001b[0m\u001b[0;34m,\u001b[0m \u001b[0;34m'people'\u001b[0m\u001b[0;34m]\u001b[0m\u001b[0;34m,\u001b[0m \u001b[0;36m1\u001b[0m\u001b[0;34m)\u001b[0m\u001b[0;34m\u001b[0m\u001b[0;34m\u001b[0m\u001b[0m\n",
      "\u001b[0;31mAttributeError\u001b[0m: 'numpy.ndarray' object has no attribute 'groupby'"
     ]
    }
   ],
   "source": [
    "resu_aud_1, history_aud_1 = classification_autoEncoder(aud_1,'Auditory','E1')\n"
   ]
  },
  {
   "cell_type": "code",
   "execution_count": 10,
   "metadata": {
    "ExecuteTime": {
     "end_time": "2020-09-01T19:17:19.484477Z",
     "start_time": "2020-09-01T19:17:19.479509Z"
    }
   },
   "outputs": [],
   "source": [
    "N_PEOPLE = 20\n",
    "PATH_AUD = '../data/raw/aud'\n",
    "PATH_VIS = '../data/raw/vis'\n",
    "PATH_INFO = '../data/raw/info_'\n",
    "\n",
    "N_CHANNELS = 64\n",
    "#N_CHANNELS = 62\n",
    "\n",
    "ORIGINAL_FREQUENCY = 1000\n",
    "\n",
    "DOWN_SAMPLED_FREQUENCY = 250"
   ]
  },
  {
   "cell_type": "code",
   "execution_count": 11,
   "metadata": {
    "ExecuteTime": {
     "end_time": "2020-09-01T19:17:41.608275Z",
     "start_time": "2020-09-01T19:17:25.849326Z"
    }
   },
   "outputs": [],
   "source": [
    "data_aud, data_vis, CHANNEL_NAMES = read_file(PATH_AUD, PATH_VIS)"
   ]
  },
  {
   "cell_type": "code",
   "execution_count": 12,
   "metadata": {
    "ExecuteTime": {
     "end_time": "2020-09-01T19:17:41.611408Z",
     "start_time": "2020-09-01T19:17:41.609398Z"
    }
   },
   "outputs": [],
   "source": [
    "## Splitting the exposures for all the individuals\n",
    "\n",
    "aud_1 = _exposure_1(data_aud)\n",
    "\n",
    "aud_2 = _exposure_2(data_aud) \n",
    "\n",
    "vis_1 = _exposure_1(data_vis)\n",
    "\n",
    "vis_2 = _exposure_2(data_vis)"
   ]
  },
  {
   "cell_type": "code",
   "execution_count": 14,
   "metadata": {
    "ExecuteTime": {
     "end_time": "2020-09-01T19:18:08.276053Z",
     "start_time": "2020-09-01T19:17:56.801763Z"
    }
   },
   "outputs": [],
   "source": [
    "bad_trials_aud, bad_trials_vis = get_bad_trials(PATH_AUD, PATH_VIS)"
   ]
  },
  {
   "cell_type": "code",
   "execution_count": 15,
   "metadata": {
    "ExecuteTime": {
     "end_time": "2020-09-01T19:18:27.630248Z",
     "start_time": "2020-09-01T19:18:27.616689Z"
    }
   },
   "outputs": [],
   "source": [
    "## Splitting the exposures for all the individuals\n",
    "\n",
    "bad_aud_1 = _exposure_1_bad(bad_trials_aud, 'Aud')\n",
    "\n",
    "bad_aud_2 = _exposure_2_bad(bad_trials_aud, 'Aud') \n",
    "\n",
    "bad_vis_1 = _exposure_1_bad(bad_trials_vis, 'Vis')\n",
    "\n",
    "bad_vis_2 = _exposure_2_bad(bad_trials_vis, 'Vis')"
   ]
  },
  {
   "cell_type": "code",
   "execution_count": 16,
   "metadata": {
    "ExecuteTime": {
     "end_time": "2020-09-01T19:18:34.348985Z",
     "start_time": "2020-09-01T19:18:34.115648Z"
    }
   },
   "outputs": [],
   "source": [
    "bad_vis_comport = get_bad_trials_comportamental('vis')\n",
    "bad_aud_comport = get_bad_trials_comportamental('aud')"
   ]
  },
  {
   "cell_type": "code",
   "execution_count": 20,
   "metadata": {
    "ExecuteTime": {
     "end_time": "2020-09-01T19:20:03.553373Z",
     "start_time": "2020-09-01T19:20:03.532874Z"
    }
   },
   "outputs": [],
   "source": [
    "indice_s2_vis = get_time_delay('vis')\n",
    "indice_s2_aud = get_time_delay('aud')\n",
    "\n",
    "time_s2_vis = get_time_delay('vis', export_as_indice=False)\n",
    "time_s2_aud = get_time_delay('aud', export_as_indice=False)"
   ]
  },
  {
   "cell_type": "code",
   "execution_count": 22,
   "metadata": {
    "ExecuteTime": {
     "end_time": "2020-09-01T19:20:10.202167Z",
     "start_time": "2020-09-01T19:20:10.181671Z"
    }
   },
   "outputs": [],
   "source": [
    "clean_aud_1, clean_aud_2, clean_vis_1, clean_vis_2 = fixing_bad_trials(\n",
    "    bad_aud_1, bad_aud_2, bad_vis_1, bad_vis_2)"
   ]
  },
  {
   "cell_type": "code",
   "execution_count": 21,
   "metadata": {
    "ExecuteTime": {
     "end_time": "2020-09-01T19:20:05.024649Z",
     "start_time": "2020-09-01T19:20:05.017982Z"
    }
   },
   "outputs": [],
   "source": [
    "clean_aud_1 = clean_aud_1.append(bad_aud_comport,ignore_index=True)\n",
    "clean_aud_2 = clean_aud_2.append(bad_aud_comport,ignore_index=True)\n",
    "\n",
    "clean_vis_1 = clean_vis_1.append(bad_vis_comport,ignore_index=True)\n",
    "clean_vis_2 = clean_vis_2.append(bad_vis_comport,ignore_index=True)"
   ]
  },
  {
   "cell_type": "code",
   "execution_count": 23,
   "metadata": {
    "ExecuteTime": {
     "end_time": "2020-09-01T19:26:55.022259Z",
     "start_time": "2020-09-01T19:26:55.005542Z"
    }
   },
   "outputs": [],
   "source": [
    "indice_s2_vis = get_time_delay('vis')\n",
    "indice_s2_aud = get_time_delay('aud')\n",
    "\n",
    "time_s2_vis = get_time_delay('vis', export_as_indice=False)\n",
    "time_s2_aud = get_time_delay('aud', export_as_indice=False)"
   ]
  },
  {
   "cell_type": "code",
   "execution_count": 24,
   "metadata": {
    "ExecuteTime": {
     "end_time": "2020-09-01T19:27:02.532438Z",
     "start_time": "2020-09-01T19:27:02.346644Z"
    }
   },
   "outputs": [],
   "source": [
    "aud_1_average = list(map(get_last_125ms, aud_1, indice_s2_aud))\n",
    "aud_2_average = list(map(get_last_125ms, aud_2, indice_s2_aud))\n",
    "\n",
    "\n",
    "vis_1_average = list(map(get_last_125ms, vis_1, indice_s2_vis))\n",
    "vis_2_average = list(map(get_last_125ms, vis_2, indice_s2_vis))"
   ]
  },
  {
   "cell_type": "code",
   "execution_count": 25,
   "metadata": {
    "ExecuteTime": {
     "end_time": "2020-09-01T19:27:09.032919Z",
     "start_time": "2020-09-01T19:27:08.933093Z"
    }
   },
   "outputs": [],
   "source": [
    "classes_aud, classes_vis = get_group_time(time_s2_aud, time_s2_vis)"
   ]
  },
  {
   "cell_type": "code",
   "execution_count": 26,
   "metadata": {
    "ExecuteTime": {
     "end_time": "2020-09-01T19:27:14.910904Z",
     "start_time": "2020-09-01T19:27:14.772732Z"
    }
   },
   "outputs": [],
   "source": [
    "#Getting in format of dataframe:\n",
    "\n",
    "df_aud_1_aver = to_DataFrame(aud_1_average,classes_aud,CHANNEL_NAMES)\n",
    "df_aud_2_aver = to_DataFrame(aud_2_average,classes_aud,CHANNEL_NAMES)\n",
    "\n",
    "df_vis_1_aver = to_DataFrame(vis_1_average,classes_vis,CHANNEL_NAMES)\n",
    "df_vis_2_aver = to_DataFrame(vis_2_average,classes_vis,CHANNEL_NAMES)"
   ]
  },
  {
   "cell_type": "code",
   "execution_count": 28,
   "metadata": {
    "ExecuteTime": {
     "end_time": "2020-09-01T19:27:40.524839Z",
     "start_time": "2020-09-01T19:27:40.519463Z"
    }
   },
   "outputs": [],
   "source": [
    "from sklearn.model_selection import train_test_split\n"
   ]
  },
  {
   "cell_type": "code",
   "execution_count": 38,
   "metadata": {
    "ExecuteTime": {
     "end_time": "2020-09-01T19:32:48.751347Z",
     "start_time": "2020-09-01T19:32:48.745755Z"
    }
   },
   "outputs": [],
   "source": [
    "from my_autoenconder import AutoEnconder"
   ]
  },
  {
   "cell_type": "code",
   "execution_count": null,
   "metadata": {},
   "outputs": [],
   "source": []
  },
  {
   "cell_type": "code",
   "execution_count": 46,
   "metadata": {
    "ExecuteTime": {
     "end_time": "2020-09-01T19:38:57.880851Z",
     "start_time": "2020-09-01T19:37:56.272802Z"
    }
   },
   "outputs": [
    {
     "data": {
      "application/vnd.jupyter.widget-view+json": {
       "model_id": "dda36fe831a640299f74ac53d283d681",
       "version_major": 2,
       "version_minor": 0
      },
      "text/plain": [
       "HBox(children=(FloatProgress(value=0.0, max=20.0), HTML(value='')))"
      ]
     },
     "metadata": {},
     "output_type": "display_data"
    },
    {
     "ename": "KeyboardInterrupt",
     "evalue": "",
     "output_type": "error",
     "traceback": [
      "\u001b[0;31m---------------------------------------------------------------------------\u001b[0m",
      "\u001b[0;31mKeyboardInterrupt\u001b[0m                         Traceback (most recent call last)",
      "\u001b[0;32m<ipython-input-46-27af52736fcf>\u001b[0m in \u001b[0;36m<module>\u001b[0;34m\u001b[0m\n\u001b[0;32m----> 1\u001b[0;31m \u001b[0mdataFrame_result\u001b[0m\u001b[0;34m,\u001b[0m \u001b[0mhistory\u001b[0m  \u001b[0;34m=\u001b[0m \u001b[0mclassification_autoEncoder\u001b[0m\u001b[0;34m(\u001b[0m\u001b[0mdf_aud_1_aver\u001b[0m\u001b[0;34m,\u001b[0m\u001b[0;34m'Auditory'\u001b[0m\u001b[0;34m,\u001b[0m\u001b[0;34m'E1'\u001b[0m\u001b[0;34m)\u001b[0m\u001b[0;34m\u001b[0m\u001b[0;34m\u001b[0m\u001b[0m\n\u001b[0m",
      "\u001b[0;32m<ipython-input-43-2c1f43d5794e>\u001b[0m in \u001b[0;36mclassification_autoEncoder\u001b[0;34m(dataFrame, categoria, exposure)\u001b[0m\n\u001b[1;32m     43\u001b[0m         \u001b[0mautoEncoder_\u001b[0m\u001b[0;34m.\u001b[0m\u001b[0mmake_auto_enconder\u001b[0m\u001b[0;34m(\u001b[0m\u001b[0;36m16\u001b[0m\u001b[0;34m)\u001b[0m\u001b[0;34m\u001b[0m\u001b[0;34m\u001b[0m\u001b[0m\n\u001b[1;32m     44\u001b[0m \u001b[0;34m\u001b[0m\u001b[0m\n\u001b[0;32m---> 45\u001b[0;31m         \u001b[0mautoEncoder_\u001b[0m\u001b[0;34m.\u001b[0m\u001b[0mfit\u001b[0m\u001b[0;34m(\u001b[0m\u001b[0mX_train_without_mean\u001b[0m\u001b[0;34m)\u001b[0m\u001b[0;34m\u001b[0m\u001b[0;34m\u001b[0m\u001b[0m\n\u001b[0m\u001b[1;32m     46\u001b[0m \u001b[0;34m\u001b[0m\u001b[0m\n\u001b[1;32m     47\u001b[0m         \u001b[0mhistory\u001b[0m\u001b[0;34m.\u001b[0m\u001b[0mappend\u001b[0m\u001b[0;34m(\u001b[0m\u001b[0mautoEncoder_\u001b[0m\u001b[0;34m.\u001b[0m\u001b[0mhistory\u001b[0m\u001b[0;34m)\u001b[0m\u001b[0;34m\u001b[0m\u001b[0;34m\u001b[0m\u001b[0m\n",
      "\u001b[0;32m~/Project_n/Across-Modalities/src/models/my_autoenconder.py\u001b[0m in \u001b[0;36mfit\u001b[0;34m(self, X)\u001b[0m\n\u001b[1;32m     79\u001b[0m                                        validation_data=(\n\u001b[1;32m     80\u001b[0m                                            X_validation, X_validation),\n\u001b[0;32m---> 81\u001b[0;31m                                        verbose=0)\n\u001b[0m\u001b[1;32m     82\u001b[0m     \u001b[0;32mdef\u001b[0m \u001b[0mtransform\u001b[0m\u001b[0;34m(\u001b[0m\u001b[0mself\u001b[0m\u001b[0;34m,\u001b[0m \u001b[0mX\u001b[0m\u001b[0;34m)\u001b[0m\u001b[0;34m:\u001b[0m\u001b[0;34m\u001b[0m\u001b[0;34m\u001b[0m\u001b[0m\n\u001b[1;32m     83\u001b[0m \u001b[0;34m\u001b[0m\u001b[0m\n",
      "\u001b[0;32m~/anaconda3/envs/tf-gpu/lib/python3.6/site-packages/tensorflow_core/python/keras/engine/training.py\u001b[0m in \u001b[0;36mfit\u001b[0;34m(self, x, y, batch_size, epochs, verbose, callbacks, validation_split, validation_data, shuffle, class_weight, sample_weight, initial_epoch, steps_per_epoch, validation_steps, validation_freq, max_queue_size, workers, use_multiprocessing, **kwargs)\u001b[0m\n\u001b[1;32m    726\u001b[0m         \u001b[0mmax_queue_size\u001b[0m\u001b[0;34m=\u001b[0m\u001b[0mmax_queue_size\u001b[0m\u001b[0;34m,\u001b[0m\u001b[0;34m\u001b[0m\u001b[0;34m\u001b[0m\u001b[0m\n\u001b[1;32m    727\u001b[0m         \u001b[0mworkers\u001b[0m\u001b[0;34m=\u001b[0m\u001b[0mworkers\u001b[0m\u001b[0;34m,\u001b[0m\u001b[0;34m\u001b[0m\u001b[0;34m\u001b[0m\u001b[0m\n\u001b[0;32m--> 728\u001b[0;31m         use_multiprocessing=use_multiprocessing)\n\u001b[0m\u001b[1;32m    729\u001b[0m \u001b[0;34m\u001b[0m\u001b[0m\n\u001b[1;32m    730\u001b[0m   def evaluate(self,\n",
      "\u001b[0;32m~/anaconda3/envs/tf-gpu/lib/python3.6/site-packages/tensorflow_core/python/keras/engine/training_v2.py\u001b[0m in \u001b[0;36mfit\u001b[0;34m(self, model, x, y, batch_size, epochs, verbose, callbacks, validation_split, validation_data, shuffle, class_weight, sample_weight, initial_epoch, steps_per_epoch, validation_steps, validation_freq, **kwargs)\u001b[0m\n\u001b[1;32m    322\u001b[0m                 \u001b[0mmode\u001b[0m\u001b[0;34m=\u001b[0m\u001b[0mModeKeys\u001b[0m\u001b[0;34m.\u001b[0m\u001b[0mTRAIN\u001b[0m\u001b[0;34m,\u001b[0m\u001b[0;34m\u001b[0m\u001b[0;34m\u001b[0m\u001b[0m\n\u001b[1;32m    323\u001b[0m                 \u001b[0mtraining_context\u001b[0m\u001b[0;34m=\u001b[0m\u001b[0mtraining_context\u001b[0m\u001b[0;34m,\u001b[0m\u001b[0;34m\u001b[0m\u001b[0;34m\u001b[0m\u001b[0m\n\u001b[0;32m--> 324\u001b[0;31m                 total_epochs=epochs)\n\u001b[0m\u001b[1;32m    325\u001b[0m             \u001b[0mcbks\u001b[0m\u001b[0;34m.\u001b[0m\u001b[0mmake_logs\u001b[0m\u001b[0;34m(\u001b[0m\u001b[0mmodel\u001b[0m\u001b[0;34m,\u001b[0m \u001b[0mepoch_logs\u001b[0m\u001b[0;34m,\u001b[0m \u001b[0mtraining_result\u001b[0m\u001b[0;34m,\u001b[0m \u001b[0mModeKeys\u001b[0m\u001b[0;34m.\u001b[0m\u001b[0mTRAIN\u001b[0m\u001b[0;34m)\u001b[0m\u001b[0;34m\u001b[0m\u001b[0;34m\u001b[0m\u001b[0m\n\u001b[1;32m    326\u001b[0m \u001b[0;34m\u001b[0m\u001b[0m\n",
      "\u001b[0;32m~/anaconda3/envs/tf-gpu/lib/python3.6/site-packages/tensorflow_core/python/keras/engine/training_v2.py\u001b[0m in \u001b[0;36mrun_one_epoch\u001b[0;34m(model, iterator, execution_function, dataset_size, batch_size, strategy, steps_per_epoch, num_samples, mode, training_context, total_epochs)\u001b[0m\n\u001b[1;32m    121\u001b[0m         step=step, mode=mode, size=current_batch_size) as batch_logs:\n\u001b[1;32m    122\u001b[0m       \u001b[0;32mtry\u001b[0m\u001b[0;34m:\u001b[0m\u001b[0;34m\u001b[0m\u001b[0;34m\u001b[0m\u001b[0m\n\u001b[0;32m--> 123\u001b[0;31m         \u001b[0mbatch_outs\u001b[0m \u001b[0;34m=\u001b[0m \u001b[0mexecution_function\u001b[0m\u001b[0;34m(\u001b[0m\u001b[0miterator\u001b[0m\u001b[0;34m)\u001b[0m\u001b[0;34m\u001b[0m\u001b[0;34m\u001b[0m\u001b[0m\n\u001b[0m\u001b[1;32m    124\u001b[0m       \u001b[0;32mexcept\u001b[0m \u001b[0;34m(\u001b[0m\u001b[0mStopIteration\u001b[0m\u001b[0;34m,\u001b[0m \u001b[0merrors\u001b[0m\u001b[0;34m.\u001b[0m\u001b[0mOutOfRangeError\u001b[0m\u001b[0;34m)\u001b[0m\u001b[0;34m:\u001b[0m\u001b[0;34m\u001b[0m\u001b[0;34m\u001b[0m\u001b[0m\n\u001b[1;32m    125\u001b[0m         \u001b[0;31m# TODO(kaftan): File bug about tf function and errors.OutOfRangeError?\u001b[0m\u001b[0;34m\u001b[0m\u001b[0;34m\u001b[0m\u001b[0;34m\u001b[0m\u001b[0m\n",
      "\u001b[0;32m~/anaconda3/envs/tf-gpu/lib/python3.6/site-packages/tensorflow_core/python/keras/engine/training_v2_utils.py\u001b[0m in \u001b[0;36mexecution_function\u001b[0;34m(input_fn)\u001b[0m\n\u001b[1;32m     84\u001b[0m     \u001b[0;31m# `numpy` translates Tensors to values in Eager mode.\u001b[0m\u001b[0;34m\u001b[0m\u001b[0;34m\u001b[0m\u001b[0;34m\u001b[0m\u001b[0m\n\u001b[1;32m     85\u001b[0m     return nest.map_structure(_non_none_constant_value,\n\u001b[0;32m---> 86\u001b[0;31m                               distributed_function(input_fn))\n\u001b[0m\u001b[1;32m     87\u001b[0m \u001b[0;34m\u001b[0m\u001b[0m\n\u001b[1;32m     88\u001b[0m   \u001b[0;32mreturn\u001b[0m \u001b[0mexecution_function\u001b[0m\u001b[0;34m\u001b[0m\u001b[0;34m\u001b[0m\u001b[0m\n",
      "\u001b[0;31mKeyboardInterrupt\u001b[0m: "
     ]
    }
   ],
   "source": [
    "dataFrame_result, history  = classification_autoEncoder(df_aud_1_aver,'Auditory','E1')"
   ]
  },
  {
   "cell_type": "code",
   "execution_count": 47,
   "metadata": {
    "ExecuteTime": {
     "end_time": "2020-09-01T20:10:20.008684Z",
     "start_time": "2020-09-01T19:39:00.976395Z"
    }
   },
   "outputs": [
    {
     "data": {
      "application/vnd.jupyter.widget-view+json": {
       "model_id": "17bf711b7ff7416991692aa6cc51c9d6",
       "version_major": 2,
       "version_minor": 0
      },
      "text/plain": [
       "HBox(children=(FloatProgress(value=0.0, max=20.0), HTML(value='')))"
      ]
     },
     "metadata": {},
     "output_type": "display_data"
    },
    {
     "name": "stdout",
     "output_type": "stream",
     "text": [
      "\n"
     ]
    },
    {
     "data": {
      "application/vnd.jupyter.widget-view+json": {
       "model_id": "12089597927949ae9313dd066c0a35bd",
       "version_major": 2,
       "version_minor": 0
      },
      "text/plain": [
       "HBox(children=(FloatProgress(value=0.0, max=20.0), HTML(value='')))"
      ]
     },
     "metadata": {},
     "output_type": "display_data"
    },
    {
     "name": "stdout",
     "output_type": "stream",
     "text": [
      "\n"
     ]
    },
    {
     "data": {
      "application/vnd.jupyter.widget-view+json": {
       "model_id": "b1f92023d84a408c9b3005cee8d78866",
       "version_major": 2,
       "version_minor": 0
      },
      "text/plain": [
       "HBox(children=(FloatProgress(value=0.0, max=20.0), HTML(value='')))"
      ]
     },
     "metadata": {},
     "output_type": "display_data"
    },
    {
     "name": "stdout",
     "output_type": "stream",
     "text": [
      "\n"
     ]
    },
    {
     "data": {
      "application/vnd.jupyter.widget-view+json": {
       "model_id": "442b12968d9146e18a4432b62a42c7fa",
       "version_major": 2,
       "version_minor": 0
      },
      "text/plain": [
       "HBox(children=(FloatProgress(value=0.0, max=20.0), HTML(value='')))"
      ]
     },
     "metadata": {},
     "output_type": "display_data"
    },
    {
     "name": "stdout",
     "output_type": "stream",
     "text": [
      "\n"
     ]
    }
   ],
   "source": [
    "resu_aud_2, history_aud_2 = classification_autoEncoder(df_aud_2_aver,'Auditory','E2')\n",
    "\n",
    "resu_aud_1, history_aud_1 = classification_autoEncoder(df_aud_1_aver,'Auditory','E1')\n",
    "\n",
    "\n",
    "resu_vis_2, history_vis_2 = classification_autoEncoder(df_vis_2_aver,'Auditory','E2')\n",
    "\n",
    "resu_vis_1, history_vis_1 = classification_autoEncoder(df_vis_1_aver,'Auditory','E1')\n",
    "\n",
    "\n"
   ]
  },
  {
   "cell_type": "code",
   "execution_count": 48,
   "metadata": {
    "ExecuteTime": {
     "end_time": "2020-09-01T20:10:20.012473Z",
     "start_time": "2020-09-01T20:10:20.009625Z"
    }
   },
   "outputs": [],
   "source": [
    "import matplotlib.pyplot as plt\n",
    "\n",
    "    \n",
    "def plot_history(history):\n",
    "\n",
    "    print(history.history.keys())\n",
    "    # summarize history for accuracy\n",
    "    plt.plot(history.history['accuracy'])\n",
    "    plt.plot(history.history['val_accuracy'])\n",
    "    plt.title('model accuracy')\n",
    "    plt.ylabel('accuracy')\n",
    "    plt.xlabel('epoch')\n",
    "    plt.legend(['train', 'test'], loc='upper left')\n",
    "    plt.show()\n",
    "    # summarize history for loss\n",
    "    plt.plot(history.history['loss'])\n",
    "    plt.plot(history.history['val_loss'])\n",
    "    plt.title('model loss')\n",
    "    plt.ylabel('loss')\n",
    "    plt.xlabel('epoch')\n",
    "    plt.legend(['train', 'test'], loc='upper left')\n",
    "    plt.show()\n"
   ]
  },
  {
   "cell_type": "code",
   "execution_count": null,
   "metadata": {
    "ExecuteTime": {
     "end_time": "2020-03-05T18:05:34.412263Z",
     "start_time": "2020-03-05T18:05:13.650Z"
    }
   },
   "outputs": [],
   "source": [
    "resu_vis_1, history_vis_1 = classification_autoEncoder(vis_1,'Visual','E1')\n"
   ]
  },
  {
   "cell_type": "code",
   "execution_count": null,
   "metadata": {
    "ExecuteTime": {
     "end_time": "2020-03-05T18:05:34.412843Z",
     "start_time": "2020-03-05T18:05:13.651Z"
    }
   },
   "outputs": [],
   "source": [
    "resu_vis_2, history_vis_2 = classification_autoEncoder(vis_2,'Visual','E2')\n"
   ]
  },
  {
   "cell_type": "code",
   "execution_count": 59,
   "metadata": {
    "ExecuteTime": {
     "end_time": "2020-09-01T20:30:21.747928Z",
     "start_time": "2020-09-01T20:30:21.568988Z"
    }
   },
   "outputs": [
    {
     "name": "stdout",
     "output_type": "stream",
     "text": [
      "dict_keys(['loss', 'accuracy', 'val_loss', 'val_accuracy'])\n"
     ]
    },
    {
     "data": {
      "image/png": "[encoded data removed]",
      "text/plain": [
       "<Figure size 432x288 with 1 Axes>"
      ]
     },
     "metadata": {},
     "output_type": "display_data"
    },
    {
     "data": {
      "image/png": "[encoded data removed]",
      "text/plain": [
       "<Figure size 432x288 with 1 Axes>"
      ]
     },
     "metadata": {},
     "output_type": "display_data"
    }
   ],
   "source": [
    "plot_history(history_aud_1)"
   ]
  },
  {
   "cell_type": "code",
   "execution_count": 60,
   "metadata": {
    "ExecuteTime": {
     "end_time": "2020-09-01T20:30:30.263831Z",
     "start_time": "2020-09-01T20:30:30.081962Z"
    }
   },
   "outputs": [
    {
     "name": "stdout",
     "output_type": "stream",
     "text": [
      "dict_keys(['loss', 'accuracy', 'val_loss', 'val_accuracy'])\n"
     ]
    },
    {
     "data": {
      "image/png": "[encoded data removed]",
      "text/plain": [
       "<Figure size 432x288 with 1 Axes>"
      ]
     },
     "metadata": {},
     "output_type": "display_data"
    },
    {
     "data": {
      "image/png": "[encoded data removed]",
      "text/plain": [
       "<Figure size 432x288 with 1 Axes>"
      ]
     },
     "metadata": {},
     "output_type": "display_data"
    }
   ],
   "source": [
    "plot_history(history_aud_2)"
   ]
  },
  {
   "cell_type": "code",
   "execution_count": 61,
   "metadata": {
    "ExecuteTime": {
     "end_time": "2020-09-01T20:30:36.234790Z",
     "start_time": "2020-09-01T20:30:36.053026Z"
    }
   },
   "outputs": [
    {
     "name": "stdout",
     "output_type": "stream",
     "text": [
      "dict_keys(['loss', 'accuracy', 'val_loss', 'val_accuracy'])\n"
     ]
    },
    {
     "data": {
      "image/png": "[encoded data removed]",
      "text/plain": [
       "<Figure size 432x288 with 1 Axes>"
      ]
     },
     "metadata": {},
     "output_type": "display_data"
    },
    {
     "data": {
      "image/png": "[encoded data removed]",
      "text/plain": [
       "<Figure size 432x288 with 1 Axes>"
      ]
     },
     "metadata": {},
     "output_type": "display_data"
    }
   ],
   "source": [
    "plot_history(history_vis_1)"
   ]
  },
  {
   "cell_type": "code",
   "execution_count": 62,
   "metadata": {
    "ExecuteTime": {
     "end_time": "2020-09-01T20:30:44.834885Z",
     "start_time": "2020-09-01T20:30:44.652304Z"
    }
   },
   "outputs": [
    {
     "name": "stdout",
     "output_type": "stream",
     "text": [
      "dict_keys(['loss', 'accuracy', 'val_loss', 'val_accuracy'])\n"
     ]
    },
    {
     "data": {
      "image/png": "[encoded data removed]",
      "text/plain": [
       "<Figure size 432x288 with 1 Axes>"
      ]
     },
     "metadata": {},
     "output_type": "display_data"
    },
    {
     "data": {
      "image/png": "[encoded data removed]",
      "text/plain": [
       "<Figure size 432x288 with 1 Axes>"
      ]
     },
     "metadata": {},
     "output_type": "display_data"
    }
   ],
   "source": [
    "plot_history(history_vis_2)"
   ]
  },
  {
   "cell_type": "code",
   "execution_count": 49,
   "metadata": {
    "ExecuteTime": {
     "end_time": "2020-09-01T20:10:20.407358Z",
     "start_time": "2020-09-01T20:10:20.013329Z"
    }
   },
   "outputs": [],
   "source": [
    "merge_autoenco, merge_autoenco_mode = merge_export(resu_aud_1, resu_aud_2,\n",
    "                                                   resu_vis_1, resu_vis_2,\n",
    "                                                   '../data/processed/auto_enconder_1.csv')"
   ]
  },
  {
   "cell_type": "code",
   "execution_count": 50,
   "metadata": {
    "ExecuteTime": {
     "end_time": "2020-09-01T20:10:20.478017Z",
     "start_time": "2020-09-01T20:10:20.411079Z"
    }
   },
   "outputs": [],
   "source": [
    "ck_auto = cohen_kappa(merge_autoenco, plot_option=False, title='')"
   ]
  },
  {
   "cell_type": "code",
   "execution_count": 52,
   "metadata": {
    "ExecuteTime": {
     "end_time": "2020-09-01T20:17:03.353757Z",
     "start_time": "2020-09-01T20:17:03.339941Z"
    }
   },
   "outputs": [
    {
     "data": {
      "text/html": [
       "<div>\n",
       "<style scoped>\n",
       "    .dataframe tbody tr th:only-of-type {\n",
       "        vertical-align: middle;\n",
       "    }\n",
       "\n",
       "    .dataframe tbody tr th {\n",
       "        vertical-align: top;\n",
       "    }\n",
       "\n",
       "    .dataframe thead th {\n",
       "        text-align: right;\n",
       "    }\n",
       "</style>\n",
       "<table border=\"1\" class=\"dataframe\">\n",
       "  <thead>\n",
       "    <tr style=\"text-align: right;\">\n",
       "      <th></th>\n",
       "      <th>id_person</th>\n",
       "      <th>Exposures</th>\n",
       "      <th>Modality</th>\n",
       "      <th>Cohen_Kappa</th>\n",
       "    </tr>\n",
       "  </thead>\n",
       "  <tbody>\n",
       "    <tr>\n",
       "      <th>0</th>\n",
       "      <td>0</td>\n",
       "      <td>E1</td>\n",
       "      <td>Auditory</td>\n",
       "      <td>0.022390</td>\n",
       "    </tr>\n",
       "    <tr>\n",
       "      <th>1</th>\n",
       "      <td>0</td>\n",
       "      <td>E2</td>\n",
       "      <td>Auditory</td>\n",
       "      <td>0.031299</td>\n",
       "    </tr>\n",
       "    <tr>\n",
       "      <th>2</th>\n",
       "      <td>1</td>\n",
       "      <td>E1</td>\n",
       "      <td>Auditory</td>\n",
       "      <td>-0.019640</td>\n",
       "    </tr>\n",
       "    <tr>\n",
       "      <th>3</th>\n",
       "      <td>1</td>\n",
       "      <td>E2</td>\n",
       "      <td>Auditory</td>\n",
       "      <td>0.045174</td>\n",
       "    </tr>\n",
       "    <tr>\n",
       "      <th>4</th>\n",
       "      <td>2</td>\n",
       "      <td>E1</td>\n",
       "      <td>Auditory</td>\n",
       "      <td>-0.040664</td>\n",
       "    </tr>\n",
       "    <tr>\n",
       "      <th>5</th>\n",
       "      <td>2</td>\n",
       "      <td>E2</td>\n",
       "      <td>Auditory</td>\n",
       "      <td>-0.002010</td>\n",
       "    </tr>\n",
       "    <tr>\n",
       "      <th>6</th>\n",
       "      <td>3</td>\n",
       "      <td>E1</td>\n",
       "      <td>Auditory</td>\n",
       "      <td>0.032441</td>\n",
       "    </tr>\n",
       "    <tr>\n",
       "      <th>7</th>\n",
       "      <td>3</td>\n",
       "      <td>E2</td>\n",
       "      <td>Auditory</td>\n",
       "      <td>-0.010345</td>\n",
       "    </tr>\n",
       "    <tr>\n",
       "      <th>8</th>\n",
       "      <td>4</td>\n",
       "      <td>E1</td>\n",
       "      <td>Auditory</td>\n",
       "      <td>-0.007676</td>\n",
       "    </tr>\n",
       "    <tr>\n",
       "      <th>9</th>\n",
       "      <td>4</td>\n",
       "      <td>E2</td>\n",
       "      <td>Auditory</td>\n",
       "      <td>0.062756</td>\n",
       "    </tr>\n",
       "    <tr>\n",
       "      <th>10</th>\n",
       "      <td>5</td>\n",
       "      <td>E1</td>\n",
       "      <td>Auditory</td>\n",
       "      <td>0.023889</td>\n",
       "    </tr>\n",
       "    <tr>\n",
       "      <th>11</th>\n",
       "      <td>5</td>\n",
       "      <td>E2</td>\n",
       "      <td>Auditory</td>\n",
       "      <td>0.013783</td>\n",
       "    </tr>\n",
       "    <tr>\n",
       "      <th>12</th>\n",
       "      <td>6</td>\n",
       "      <td>E1</td>\n",
       "      <td>Auditory</td>\n",
       "      <td>0.029253</td>\n",
       "    </tr>\n",
       "    <tr>\n",
       "      <th>13</th>\n",
       "      <td>6</td>\n",
       "      <td>E2</td>\n",
       "      <td>Auditory</td>\n",
       "      <td>0.025264</td>\n",
       "    </tr>\n",
       "    <tr>\n",
       "      <th>14</th>\n",
       "      <td>7</td>\n",
       "      <td>E1</td>\n",
       "      <td>Auditory</td>\n",
       "      <td>0.012992</td>\n",
       "    </tr>\n",
       "    <tr>\n",
       "      <th>15</th>\n",
       "      <td>7</td>\n",
       "      <td>E2</td>\n",
       "      <td>Auditory</td>\n",
       "      <td>0.058414</td>\n",
       "    </tr>\n",
       "    <tr>\n",
       "      <th>16</th>\n",
       "      <td>8</td>\n",
       "      <td>E1</td>\n",
       "      <td>Auditory</td>\n",
       "      <td>0.066659</td>\n",
       "    </tr>\n",
       "    <tr>\n",
       "      <th>17</th>\n",
       "      <td>8</td>\n",
       "      <td>E2</td>\n",
       "      <td>Auditory</td>\n",
       "      <td>-0.002417</td>\n",
       "    </tr>\n",
       "    <tr>\n",
       "      <th>18</th>\n",
       "      <td>9</td>\n",
       "      <td>E1</td>\n",
       "      <td>Auditory</td>\n",
       "      <td>0.034479</td>\n",
       "    </tr>\n",
       "    <tr>\n",
       "      <th>19</th>\n",
       "      <td>9</td>\n",
       "      <td>E2</td>\n",
       "      <td>Auditory</td>\n",
       "      <td>0.049311</td>\n",
       "    </tr>\n",
       "    <tr>\n",
       "      <th>20</th>\n",
       "      <td>10</td>\n",
       "      <td>E1</td>\n",
       "      <td>Auditory</td>\n",
       "      <td>0.034296</td>\n",
       "    </tr>\n",
       "    <tr>\n",
       "      <th>21</th>\n",
       "      <td>10</td>\n",
       "      <td>E2</td>\n",
       "      <td>Auditory</td>\n",
       "      <td>0.034801</td>\n",
       "    </tr>\n",
       "    <tr>\n",
       "      <th>22</th>\n",
       "      <td>11</td>\n",
       "      <td>E1</td>\n",
       "      <td>Auditory</td>\n",
       "      <td>0.047829</td>\n",
       "    </tr>\n",
       "    <tr>\n",
       "      <th>23</th>\n",
       "      <td>11</td>\n",
       "      <td>E2</td>\n",
       "      <td>Auditory</td>\n",
       "      <td>0.026477</td>\n",
       "    </tr>\n",
       "    <tr>\n",
       "      <th>24</th>\n",
       "      <td>12</td>\n",
       "      <td>E1</td>\n",
       "      <td>Auditory</td>\n",
       "      <td>0.015722</td>\n",
       "    </tr>\n",
       "    <tr>\n",
       "      <th>25</th>\n",
       "      <td>12</td>\n",
       "      <td>E2</td>\n",
       "      <td>Auditory</td>\n",
       "      <td>0.060317</td>\n",
       "    </tr>\n",
       "    <tr>\n",
       "      <th>26</th>\n",
       "      <td>13</td>\n",
       "      <td>E1</td>\n",
       "      <td>Auditory</td>\n",
       "      <td>0.025723</td>\n",
       "    </tr>\n",
       "    <tr>\n",
       "      <th>27</th>\n",
       "      <td>13</td>\n",
       "      <td>E2</td>\n",
       "      <td>Auditory</td>\n",
       "      <td>0.034846</td>\n",
       "    </tr>\n",
       "    <tr>\n",
       "      <th>28</th>\n",
       "      <td>14</td>\n",
       "      <td>E1</td>\n",
       "      <td>Auditory</td>\n",
       "      <td>0.006133</td>\n",
       "    </tr>\n",
       "    <tr>\n",
       "      <th>29</th>\n",
       "      <td>14</td>\n",
       "      <td>E2</td>\n",
       "      <td>Auditory</td>\n",
       "      <td>0.059448</td>\n",
       "    </tr>\n",
       "    <tr>\n",
       "      <th>30</th>\n",
       "      <td>15</td>\n",
       "      <td>E1</td>\n",
       "      <td>Auditory</td>\n",
       "      <td>0.081064</td>\n",
       "    </tr>\n",
       "    <tr>\n",
       "      <th>31</th>\n",
       "      <td>15</td>\n",
       "      <td>E2</td>\n",
       "      <td>Auditory</td>\n",
       "      <td>0.048917</td>\n",
       "    </tr>\n",
       "    <tr>\n",
       "      <th>32</th>\n",
       "      <td>16</td>\n",
       "      <td>E1</td>\n",
       "      <td>Auditory</td>\n",
       "      <td>0.042456</td>\n",
       "    </tr>\n",
       "    <tr>\n",
       "      <th>33</th>\n",
       "      <td>16</td>\n",
       "      <td>E2</td>\n",
       "      <td>Auditory</td>\n",
       "      <td>-0.004124</td>\n",
       "    </tr>\n",
       "    <tr>\n",
       "      <th>34</th>\n",
       "      <td>17</td>\n",
       "      <td>E1</td>\n",
       "      <td>Auditory</td>\n",
       "      <td>0.006082</td>\n",
       "    </tr>\n",
       "    <tr>\n",
       "      <th>35</th>\n",
       "      <td>17</td>\n",
       "      <td>E2</td>\n",
       "      <td>Auditory</td>\n",
       "      <td>0.040169</td>\n",
       "    </tr>\n",
       "    <tr>\n",
       "      <th>36</th>\n",
       "      <td>18</td>\n",
       "      <td>E1</td>\n",
       "      <td>Auditory</td>\n",
       "      <td>0.025276</td>\n",
       "    </tr>\n",
       "    <tr>\n",
       "      <th>37</th>\n",
       "      <td>18</td>\n",
       "      <td>E2</td>\n",
       "      <td>Auditory</td>\n",
       "      <td>0.038558</td>\n",
       "    </tr>\n",
       "    <tr>\n",
       "      <th>38</th>\n",
       "      <td>19</td>\n",
       "      <td>E1</td>\n",
       "      <td>Auditory</td>\n",
       "      <td>0.046163</td>\n",
       "    </tr>\n",
       "    <tr>\n",
       "      <th>39</th>\n",
       "      <td>19</td>\n",
       "      <td>E2</td>\n",
       "      <td>Auditory</td>\n",
       "      <td>0.046496</td>\n",
       "    </tr>\n",
       "  </tbody>\n",
       "</table>\n",
       "</div>"
      ],
      "text/plain": [
       "    id_person Exposures  Modality  Cohen_Kappa\n",
       "0           0        E1  Auditory     0.022390\n",
       "1           0        E2  Auditory     0.031299\n",
       "2           1        E1  Auditory    -0.019640\n",
       "3           1        E2  Auditory     0.045174\n",
       "4           2        E1  Auditory    -0.040664\n",
       "5           2        E2  Auditory    -0.002010\n",
       "6           3        E1  Auditory     0.032441\n",
       "7           3        E2  Auditory    -0.010345\n",
       "8           4        E1  Auditory    -0.007676\n",
       "9           4        E2  Auditory     0.062756\n",
       "10          5        E1  Auditory     0.023889\n",
       "11          5        E2  Auditory     0.013783\n",
       "12          6        E1  Auditory     0.029253\n",
       "13          6        E2  Auditory     0.025264\n",
       "14          7        E1  Auditory     0.012992\n",
       "15          7        E2  Auditory     0.058414\n",
       "16          8        E1  Auditory     0.066659\n",
       "17          8        E2  Auditory    -0.002417\n",
       "18          9        E1  Auditory     0.034479\n",
       "19          9        E2  Auditory     0.049311\n",
       "20         10        E1  Auditory     0.034296\n",
       "21         10        E2  Auditory     0.034801\n",
       "22         11        E1  Auditory     0.047829\n",
       "23         11        E2  Auditory     0.026477\n",
       "24         12        E1  Auditory     0.015722\n",
       "25         12        E2  Auditory     0.060317\n",
       "26         13        E1  Auditory     0.025723\n",
       "27         13        E2  Auditory     0.034846\n",
       "28         14        E1  Auditory     0.006133\n",
       "29         14        E2  Auditory     0.059448\n",
       "30         15        E1  Auditory     0.081064\n",
       "31         15        E2  Auditory     0.048917\n",
       "32         16        E1  Auditory     0.042456\n",
       "33         16        E2  Auditory    -0.004124\n",
       "34         17        E1  Auditory     0.006082\n",
       "35         17        E2  Auditory     0.040169\n",
       "36         18        E1  Auditory     0.025276\n",
       "37         18        E2  Auditory     0.038558\n",
       "38         19        E1  Auditory     0.046163\n",
       "39         19        E2  Auditory     0.046496"
      ]
     },
     "execution_count": 52,
     "metadata": {},
     "output_type": "execute_result"
    }
   ],
   "source": [
    "plot_"
   ]
  },
  {
   "cell_type": "code",
   "execution_count": 53,
   "metadata": {
    "ExecuteTime": {
     "end_time": "2020-09-01T20:23:42.521039Z",
     "start_time": "2020-09-01T20:23:42.498079Z"
    }
   },
   "outputs": [
    {
     "name": "stdout",
     "output_type": "stream",
     "text": [
      "##################################################\n",
      "Classificação nos Dados Visual, exposição 1\n"
     ]
    },
    {
     "ename": "ValueError",
     "evalue": "max() arg is an empty sequence",
     "output_type": "error",
     "traceback": [
      "\u001b[0;31m---------------------------------------------------------------------------\u001b[0m",
      "\u001b[0;31mValueError\u001b[0m                                Traceback (most recent call last)",
      "\u001b[0;32m<ipython-input-53-62d5ac7f22e4>\u001b[0m in \u001b[0;36m<module>\u001b[0;34m\u001b[0m\n\u001b[0;32m----> 1\u001b[0;31m \u001b[0mprint_classification_by_mod\u001b[0m\u001b[0;34m(\u001b[0m\u001b[0mmerge_autoenco\u001b[0m\u001b[0;34m)\u001b[0m\u001b[0;34m\u001b[0m\u001b[0;34m\u001b[0m\u001b[0m\n\u001b[0m",
      "\u001b[0;32m~/Project_n/Across-Modalities/src/tools/report.py\u001b[0m in \u001b[0;36mprint_classification_by_mod\u001b[0;34m(merge_data)\u001b[0m\n\u001b[1;32m     25\u001b[0m \u001b[0;34m\u001b[0m\u001b[0m\n\u001b[1;32m     26\u001b[0m \u001b[0;34m\u001b[0m\u001b[0m\n\u001b[0;32m---> 27\u001b[0;31m     \u001b[0mprint\u001b[0m\u001b[0;34m(\u001b[0m\u001b[0mclassification_report\u001b[0m\u001b[0;34m(\u001b[0m\u001b[0my_test\u001b[0m\u001b[0;34m,\u001b[0m \u001b[0my_pred\u001b[0m\u001b[0;34m)\u001b[0m\u001b[0;34m)\u001b[0m\u001b[0;34m\u001b[0m\u001b[0;34m\u001b[0m\u001b[0m\n\u001b[0m\u001b[1;32m     28\u001b[0m \u001b[0;34m\u001b[0m\u001b[0m\n\u001b[1;32m     29\u001b[0m     \u001b[0mprint\u001b[0m\u001b[0;34m(\u001b[0m\u001b[0;34m\"##################################################\"\u001b[0m\u001b[0;34m)\u001b[0m\u001b[0;34m\u001b[0m\u001b[0;34m\u001b[0m\u001b[0m\n",
      "\u001b[0;32m~/anaconda3/envs/tf-gpu/lib/python3.6/site-packages/sklearn/metrics/_classification.py\u001b[0m in \u001b[0;36mclassification_report\u001b[0;34m(y_true, y_pred, labels, target_names, sample_weight, digits, output_dict, zero_division)\u001b[0m\n\u001b[1;32m   2015\u001b[0m     \u001b[0;32melse\u001b[0m\u001b[0;34m:\u001b[0m\u001b[0;34m\u001b[0m\u001b[0;34m\u001b[0m\u001b[0m\n\u001b[1;32m   2016\u001b[0m         \u001b[0mlongest_last_line_heading\u001b[0m \u001b[0;34m=\u001b[0m \u001b[0;34m'weighted avg'\u001b[0m\u001b[0;34m\u001b[0m\u001b[0;34m\u001b[0m\u001b[0m\n\u001b[0;32m-> 2017\u001b[0;31m         \u001b[0mname_width\u001b[0m \u001b[0;34m=\u001b[0m \u001b[0mmax\u001b[0m\u001b[0;34m(\u001b[0m\u001b[0mlen\u001b[0m\u001b[0;34m(\u001b[0m\u001b[0mcn\u001b[0m\u001b[0;34m)\u001b[0m \u001b[0;32mfor\u001b[0m \u001b[0mcn\u001b[0m \u001b[0;32min\u001b[0m \u001b[0mtarget_names\u001b[0m\u001b[0;34m)\u001b[0m\u001b[0;34m\u001b[0m\u001b[0;34m\u001b[0m\u001b[0m\n\u001b[0m\u001b[1;32m   2018\u001b[0m         \u001b[0mwidth\u001b[0m \u001b[0;34m=\u001b[0m \u001b[0mmax\u001b[0m\u001b[0;34m(\u001b[0m\u001b[0mname_width\u001b[0m\u001b[0;34m,\u001b[0m \u001b[0mlen\u001b[0m\u001b[0;34m(\u001b[0m\u001b[0mlongest_last_line_heading\u001b[0m\u001b[0;34m)\u001b[0m\u001b[0;34m,\u001b[0m \u001b[0mdigits\u001b[0m\u001b[0;34m)\u001b[0m\u001b[0;34m\u001b[0m\u001b[0;34m\u001b[0m\u001b[0m\n\u001b[1;32m   2019\u001b[0m         \u001b[0mhead_fmt\u001b[0m \u001b[0;34m=\u001b[0m \u001b[0;34m'{:>{width}s} '\u001b[0m \u001b[0;34m+\u001b[0m \u001b[0;34m' {:>9}'\u001b[0m \u001b[0;34m*\u001b[0m \u001b[0mlen\u001b[0m\u001b[0;34m(\u001b[0m\u001b[0mheaders\u001b[0m\u001b[0;34m)\u001b[0m\u001b[0;34m\u001b[0m\u001b[0;34m\u001b[0m\u001b[0m\n",
      "\u001b[0;31mValueError\u001b[0m: max() arg is an empty sequence"
     ]
    }
   ],
   "source": [
    "print_classification_by_mod(merge_autoenco)"
   ]
  },
  {
   "cell_type": "code",
   "execution_count": 54,
   "metadata": {
    "ExecuteTime": {
     "end_time": "2020-09-01T20:24:10.151839Z",
     "start_time": "2020-09-01T20:24:10.110430Z"
    }
   },
   "outputs": [
    {
     "data": {
      "text/html": [
       "<div>\n",
       "<style scoped>\n",
       "    .dataframe tbody tr th:only-of-type {\n",
       "        vertical-align: middle;\n",
       "    }\n",
       "\n",
       "    .dataframe tbody tr th {\n",
       "        vertical-align: top;\n",
       "    }\n",
       "\n",
       "    .dataframe thead th {\n",
       "        text-align: right;\n",
       "    }\n",
       "</style>\n",
       "<table border=\"1\" class=\"dataframe\">\n",
       "  <thead>\n",
       "    <tr style=\"text-align: right;\">\n",
       "      <th></th>\n",
       "      <th></th>\n",
       "      <th>Stats</th>\n",
       "      <th>p-value</th>\n",
       "    </tr>\n",
       "    <tr>\n",
       "      <th>Exposures</th>\n",
       "      <th>Modality</th>\n",
       "      <th></th>\n",
       "      <th></th>\n",
       "    </tr>\n",
       "  </thead>\n",
       "  <tbody>\n",
       "    <tr>\n",
       "      <th>E1</th>\n",
       "      <th>Auditory</th>\n",
       "      <td>3.895788</td>\n",
       "      <td>0.000972</td>\n",
       "    </tr>\n",
       "    <tr>\n",
       "      <th>E2</th>\n",
       "      <th>Auditory</th>\n",
       "      <td>6.364676</td>\n",
       "      <td>0.000004</td>\n",
       "    </tr>\n",
       "  </tbody>\n",
       "</table>\n",
       "</div>"
      ],
      "text/plain": [
       "                       Stats   p-value\n",
       "Exposures Modality                    \n",
       "E1        Auditory  3.895788  0.000972\n",
       "E2        Auditory  6.364676  0.000004"
      ]
     },
     "execution_count": 54,
     "metadata": {},
     "output_type": "execute_result"
    }
   ],
   "source": [
    "t_test(ck_auto)"
   ]
  },
  {
   "cell_type": "code",
   "execution_count": 58,
   "metadata": {
    "ExecuteTime": {
     "end_time": "2020-09-01T20:26:44.874360Z",
     "start_time": "2020-09-01T20:26:44.696405Z"
    }
   },
   "outputs": [
    {
     "data": {
      "image/png": "[encoded data removed]",
      "text/plain": [
       "<Figure size 432x288 with 2 Axes>"
      ]
     },
     "metadata": {},
     "output_type": "display_data"
    }
   ],
   "source": [
    "import matplotlib.pylab as plt\n",
    "\n",
    "fig, axs = plt.subplots(1,2)\n",
    "    \n",
    "ax_ck_with = axs[0]\n",
    "ax_ck_acro = axs[1]\n",
    "\n",
    "\n",
    "ax_ck_acro = violinplot(x=\"Exposures\", y=\"Cohen_Kappa\", hue=\"Modality\",\n",
    "                        data=ck_auto, palette=['#de0000', '#001a8d'], ax=ax_ck_acro)\n",
    "ax_ck_acro = swarmplot(x=\"Exposures\", y=\"Cohen_Kappa\", hue=\"Modality\",\n",
    "                       data=ck_auto, size=8, ax=ax_ck_acro,\n",
    "                       palette=['#ff9293', '#aaaaff'],\n",
    "                       dodge=True,\n",
    "                       alpha=.2)\n",
    "\n",
    "ax_ck_acro.set_title('Across modalities')\n",
    "ax_ck_acro.get_legend().remove()\n",
    "\n",
    "ax_ck_with = violinplot(x=\"Exposures\", y=\"Cohen_Kappa\", hue=\"Modality\",\n",
    "                        data=ck_auto, palette=['#de0000', '#001a8d'], ax=ax_ck_with)\n",
    "ax_ck_with = swarmplot(x=\"Exposures\", y=\"Cohen_Kappa\", hue=\"Modality\",\n",
    "                       data=ck_auto, size=8, ax=ax_ck_with,\n",
    "                       palette=['#ff9293', '#aaaaff'],\n",
    "                       dodge=True,\n",
    "                       alpha=.2)\n",
    "\n",
    "ax_ck_with.set_title('Within modalities')\n",
    "ax_ck_with.get_legend().remove()\n",
    "ax_ck_with = ax_ck_with.set(ylim=(-1, 1))\n",
    "\n"
   ]
  },
  {
   "cell_type": "code",
   "execution_count": null,
   "metadata": {
    "ExecuteTime": {
     "end_time": "2020-03-05T18:05:34.417498Z",
     "start_time": "2020-03-05T18:05:13.667Z"
    }
   },
   "outputs": [],
   "source": [
    "plot_history"
   ]
  },
  {
   "cell_type": "markdown",
   "metadata": {},
   "source": [
    "### Passo 2: gerar uma representação comum entre ambas as modalidades\n",
    "* Treinar com a mesma rede para visual e auditivo\n",
    "* Objetivo é verificar se gera uma melhor representação comum entre as modalidades\n",
    "* Comparar o desempenho com a rede treinada em apenas uma modalidade\n",
    "* Treinar redes separadas para visual e auditivo, compartilhando a parte da codificação\n",
    "* Treinamento com exemplos de ambas as modalidades\n",
    "* Pode ser mais interessante, pois enfatiza uma codificação comum, mas permite diferenciações na decodificação"
   ]
  },
  {
   "cell_type": "markdown",
   "metadata": {},
   "source": [
    "\n",
    "\n",
    "\n",
    "### Passo 3: obter representações comuns entre sujeitos\n",
    "* Treinar a mesma rede para todos os participantes \n",
    "* Objetivo é gerar as codificações a partir de grandes quantidades de dados\n",
    "* Abordagem 1: Fazer para a rede uma rede codificação/decodificação comum a todos\n",
    "    * Depois pode ser afinada para cada participante individualmente\n",
    "* Abordagem 2: Usar apenas a parte de codificação em comum\n",
    "    * Enfatiza uma codificação comum, mas permite diferenciações na decodificação\n",
    "* Neste caso o classificador poderia ser comum também?\n",
    "\n"
   ]
  },
  {
   "cell_type": "markdown",
   "metadata": {},
   "source": [
    "### Passo 4: capturar informação temporal (opcional)\n",
    "* Repetir os passos anteriores, mas usando 5 valores para cada eletrodo (1 a cada 25 ms)\n",
    "* Objetivo é verificar se mais detalhes temporais melhoram a representação do tempo\n",
    "* Inicialmente utilizar uma arquitetura fully connected \n",
    "    * 320(E) - 160 - 80 - 40 - 80 - 160 - 320(S)\n",
    "* Outra possibilidade é colocar alguma estrutura\n",
    "* Transformação é inicialmente realizada sobre a série temporal de cada eletrodo\n",
    "* Poderia também juntar sinais de eletrodos vizinhos\n",
    "* Isso permitiria diminuir o número de conexões"
   ]
  },
  {
   "cell_type": "raw",
   "metadata": {},
   "source": [
    "resu_aud_2 = classification(df_aud_2_aver,'Auditory','E2')\n",
    "\n",
    "resu_vis_1 = classification(df_vis_1_aver,'Visual','E1')\n",
    "resu_vis_2 = classification(df_vis_2_aver,'Visual','E2')\n"
   ]
  }
 ],
 "metadata": {
  "kernelspec": {
   "display_name": "TensorFlow-GPU",
   "language": "python",
   "name": "tf-gpu"
  },
  "language_info": {
   "codemirror_mode": {
    "name": "ipython",
    "version": 3
   },
   "file_extension": ".py",
   "mimetype": "text/x-python",
   "name": "python",
   "nbconvert_exporter": "python",
   "pygments_lexer": "ipython3",
   "version": "3.6.9"
  },
  "toc": {
   "base_numbering": 1,
   "nav_menu": {},
   "number_sections": true,
   "sideBar": true,
   "skip_h1_title": false,
   "title_cell": "Table of Contents",
   "title_sidebar": "Contents",
   "toc_cell": false,
   "toc_position": {},
   "toc_section_display": true,
   "toc_window_display": false
  }
 },
 "nbformat": 4,
 "nbformat_minor": 2
}
