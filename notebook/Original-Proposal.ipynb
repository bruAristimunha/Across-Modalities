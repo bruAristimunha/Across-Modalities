{
 "cells": [
  {
   "cell_type": "markdown",
   "metadata": {},
   "source": [
    "# Abordagem Inicial \n",
    "\n",
    "## Objetivo \n",
    "\n",
    "### Propor método para:\n",
    "* encontrar representações comuns de diferentes modalidades sensoriais\n",
    "* aumentar a quantidade de dados utilizados para redução de dimensionalidade do sinal\n",
    "* melhorar a sensibilidade de análises MVPA posteriores \n",
    "\n",
    "### Inicialmente codificar cada instante de tempo (sem usar janelas no tempo)\n",
    "### Decodificar o momento que estava na mesma e na outra modalidade a partir do estado reduzido\n",
    "* Comparar com decodificação usando: (1) Sinais originais, (2) PCA geral, (3) PCA em cada ponto, (4) Auto-encoder\n",
    "\n"
   ]
  },
  {
   "cell_type": "code",
   "execution_count": 1,
   "metadata": {},
   "outputs": [],
   "source": [
    "%matplotlib inline\n",
    "import numpy as np\n",
    "import matplotlib.pyplot as plt\n",
    "import seaborn as sns; sns.set()"
   ]
  },
  {
   "cell_type": "markdown",
   "metadata": {},
   "source": [
    "## O \"report.all_trials_delay\" tem o intervalo físico e report.time_target tem o intervalo estimado!"
   ]
  },
  {
   "cell_type": "code",
   "execution_count": 2,
   "metadata": {},
   "outputs": [],
   "source": [
    "import sys\n",
    "sys.path.append(\"../src/data\")\n",
    "from myMNE import makeMNE"
   ]
  },
  {
   "cell_type": "code",
   "execution_count": 3,
   "metadata": {},
   "outputs": [],
   "source": [
    "from os import listdir\n",
    "from os.path import isfile, join\n",
    "mypath = '../data/raw/aud/'\n",
    "\n",
    "onlyfiles = [mypath+\"/\"+f for f in listdir(mypath) if isfile(join(mypath, f))]\n",
    "auds = list(map(makeMNE,onlyfiles))"
   ]
  },
  {
   "cell_type": "code",
   "execution_count": 4,
   "metadata": {},
   "outputs": [],
   "source": [
    "data = np.array([aud.get_data().T for aud in auds])"
   ]
  },
  {
   "cell_type": "markdown",
   "metadata": {},
   "source": [
    "## Consultar o André para descobrir onde está o outros 44 ms"
   ]
  },
  {
   "cell_type": "code",
   "execution_count": 13,
   "metadata": {},
   "outputs": [
    {
     "data": {
      "text/plain": [
       "44"
      ]
     },
     "execution_count": 13,
     "metadata": {},
     "output_type": "execute_result"
    }
   ],
   "source": [
    "550*4-539*4"
   ]
  },
  {
   "cell_type": "code",
   "execution_count": 5,
   "metadata": {},
   "outputs": [
    {
     "name": "stdout",
     "output_type": "stream",
     "text": [
      "(20, 539, 64, 240) pessoas, pontos, canais, trials\n"
     ]
    }
   ],
   "source": [
    "print(\"{} pessoas, pontos, canais, trials\".format(data.shape))\n"
   ]
  },
  {
   "cell_type": "code",
   "execution_count": 19,
   "metadata": {},
   "outputs": [],
   "source": [
    "def recortaTempo(data, tipo = 0): #exposicao 1\n",
    "    #print(data.shape)\n",
    "    # 750 ms - 1500 ms\n",
    "    exposure = data[::,::,tipo::2]\n",
    "    recorte = exposure[375-186:375]\n",
    "    janelas  = np.split(recorte,6)\n",
    "    # cada janela possui 31 pontos\n",
    "    #print(\"Temos na janela um total de {:} pontos\".format(recorte.shape[0]/6))\n",
    "    # Para cada janela, pegamos a média presente nela\n",
    "    media = lambda janela : np.average(janela,axis=0)\n",
    "    com_media = np.array(list(map(media, janelas)))\n",
    "    # Dessa forma, obtemos um vetor com formato\n",
    "    #print(\"Vetor final com formato: {} \".format(com_media.shape))\n",
    "    \n",
    "    return com_media"
   ]
  },
  {
   "cell_type": "code",
   "execution_count": 20,
   "metadata": {},
   "outputs": [],
   "source": [
    "exposicao1 = lambda x : recortaTempo(x, tipo=0)\n",
    "exposicao2 = lambda x : recortaTempo(x, tipo=1)"
   ]
  },
  {
   "cell_type": "code",
   "execution_count": 21,
   "metadata": {},
   "outputs": [],
   "source": [
    "exposure1 = (list(map(exposicao1,data)))\n",
    "exposure2 = (list(map(exposicao1,data)))"
   ]
  },
  {
   "cell_type": "code",
   "execution_count": 23,
   "metadata": {},
   "outputs": [
    {
     "data": {
      "text/plain": [
       "(2, 20, 6, 64, 120)"
      ]
     },
     "execution_count": 23,
     "metadata": {},
     "output_type": "execute_result"
    }
   ],
   "source": [
    "np.array([exposure1,exposure2]).shape"
   ]
  },
  {
   "cell_type": "markdown",
   "metadata": {},
   "source": [
    "## Com isso, iremos para o próximo passo, que consiste de aplicar o PCA para reduzir as dimensões redudantes presentes nos múltiplos canais.\n",
    "\n",
    "Não realizamos nesse momento a separação do conjunto treino-teste, seguindo o autor original."
   ]
  },
  {
   "cell_type": "markdown",
   "metadata": {},
   "source": [
    "\n",
    "![aquisicao](https://raw.githubusercontent.com/bruAristimunha/Across-Modalities/master/reports/figures/mapa_rapha.jpg)\n",
    "#### Figura 01: Diagrama de Reunião de Orientação. O ponto de interesse está na tabela para aplicação do PCA. Segundo os autores, eles empregaram em média 32 componentes +- 1"
   ]
  },
  {
   "cell_type": "code",
   "execution_count": 24,
   "metadata": {},
   "outputs": [],
   "source": [
    "from sklearn.decomposition import PCA"
   ]
  },
  {
   "cell_type": "code",
   "execution_count": 65,
   "metadata": {},
   "outputs": [],
   "source": [
    "def myPCA(data: np.array, return_data = False, n_components=0.99) -> PCA :\n",
    "    \n",
    "    #data = data.reshape(64,120)\n",
    "    pca_ = PCA(random_state=42, svd_solver = 'full', n_components=n_components)\n",
    "    \n",
    "    data = data.T\n",
    "    \n",
    "    data_ft = pca_.fit_transform(data)\n",
    "    #import pdb; pdb.set_trace()\n",
    "    \n",
    "    #import pdb; pdb.set_trace()\n",
    "    if(return_data):\n",
    "        return data_ft\n",
    "    else:\n",
    "        return pca_"
   ]
  },
  {
   "cell_type": "code",
   "execution_count": 47,
   "metadata": {},
   "outputs": [],
   "source": [
    "myPCA_method = lambda df : myPCA(df, return_data=False)\n",
    "myPCA_data = lambda df : myPCA(df, return_data=True)"
   ]
  },
  {
   "cell_type": "code",
   "execution_count": 48,
   "metadata": {},
   "outputs": [],
   "source": [
    "divide = lambda x : np.split(x,6)"
   ]
  },
  {
   "cell_type": "code",
   "execution_count": 49,
   "metadata": {},
   "outputs": [],
   "source": [
    "por_janela_expo1 = list(map(divide, exposure1))\n",
    "por_janela_expo2 = list(map(divide, exposure2))"
   ]
  },
  {
   "cell_type": "code",
   "execution_count": 50,
   "metadata": {},
   "outputs": [],
   "source": [
    "por_pessoa_expo1 = [ list(map(myPCA_method,np.array(pessoa).reshape(6,64,120))) for pessoa in por_janela_expo1]\n",
    "por_pessoa_expo2 = [ list(map(myPCA_method,np.array(pessoa).reshape(6,64,120))) for pessoa in por_janela_expo2]"
   ]
  },
  {
   "cell_type": "code",
   "execution_count": 51,
   "metadata": {},
   "outputs": [],
   "source": [
    "import matplotlib.pylab as plt\n",
    "import matplotlib\n",
    "\n",
    "font = {'weight' : 'bold',\n",
    "        'size'   : 18}\n",
    "\n",
    "matplotlib.rc('font', **font)"
   ]
  },
  {
   "cell_type": "code",
   "execution_count": 52,
   "metadata": {},
   "outputs": [
    {
     "data": {
      "image/png": "[encoded data removed]",
      "text/plain": [
       "<Figure size 720x1800 with 2 Axes>"
      ]
     },
     "metadata": {},
     "output_type": "display_data"
    }
   ],
   "source": [
    "fig, ax = plt.subplots(nrows=2, figsize=(10, 25))\n",
    "method_pca = np.array(np.concatenate([por_pessoa_expo1,por_pessoa_expo2])).reshape(-1)\n",
    "componentes = [pc.n_components_ for pc in method_pca]\n",
    "for pc in method_pca:\n",
    "\n",
    "    ax[0].plot(np.arange(1, pc.n_components_ + 1),\n",
    "             pc.explained_variance_ratio_, '+', linewidth=2)\n",
    "    ax[0].set_ylabel('Explicação da variação do PCA')\n",
    "\n",
    "ax[1] = sns.boxplot(componentes,orient='vert',ax=ax[1])\n",
    "ax[1].set_title(\"média {media:.5}, desvio padrao {std:.2}, maximo {maxi}, minimo {mini}\".format(\n",
    "                                                                        media = np.mean(componentes),\n",
    "                                                                        std   = np.std(componentes), \n",
    "                                                                        maxi  = np.max(componentes),\n",
    "                                                                        mini  = np.min(componentes)))\n",
    "plt.show()"
   ]
  },
  {
   "cell_type": "markdown",
   "metadata": {},
   "source": [
    "# Média consistente, desvio padrão não (talvez com visual). Minímo consistente e máximo também.\n",
    "---\n"
   ]
  },
  {
   "cell_type": "markdown",
   "metadata": {},
   "source": [
    "# Agora temos uma matriz de tamanhos variados, com 6 recortes de tempo para cada uma das 20 pessoas.\n",
    "\n",
    "Definimos a média como tamanho adequado de número de componenetes para realizar a classificação.\n"
   ]
  },
  {
   "cell_type": "code",
   "execution_count": 66,
   "metadata": {},
   "outputs": [],
   "source": [
    "myPCA_36_comp = lambda df : myPCA(df, return_data=True, n_components=37)"
   ]
  },
  {
   "cell_type": "code",
   "execution_count": 67,
   "metadata": {},
   "outputs": [],
   "source": [
    "por_pessoa_expo1_data = [ list(map(myPCA_36_comp,np.array(pessoa).reshape(6,64,120))) for pessoa in por_janela_expo1]\n",
    "por_pessoa_expo2_data = [ list(map(myPCA_36_comp,np.array(pessoa).reshape(6,64,120))) for pessoa in por_janela_expo2]"
   ]
  },
  {
   "cell_type": "markdown",
   "metadata": {},
   "source": [
    "## Quase certeza que esse reshape está errado, mas vou verificar depois.\n",
    "\n",
    "### Tentativa de arrumar está abaixo...\n",
    "---"
   ]
  },
  {
   "cell_type": "code",
   "execution_count": 144,
   "metadata": {},
   "outputs": [],
   "source": [
    "data_expo1 = np.array(por_pessoa_expo1_data)"
   ]
  },
  {
   "cell_type": "code",
   "execution_count": 150,
   "metadata": {},
   "outputs": [],
   "source": [
    "corte = np.array(np.split(data_expo1,20))"
   ]
  },
  {
   "cell_type": "code",
   "execution_count": 162,
   "metadata": {},
   "outputs": [],
   "source": [
    "corte_1 = list([np.array(np.split(corte_.reshape(6,120,37).T,37)) for corte_ in corte])"
   ]
  },
  {
   "cell_type": "code",
   "execution_count": 174,
   "metadata": {},
   "outputs": [],
   "source": [
    "corte_1_ = np.array(corte_1).reshape(20, 37, 120, 6)"
   ]
  },
  {
   "cell_type": "code",
   "execution_count": 253,
   "metadata": {},
   "outputs": [
    {
     "data": {
      "text/plain": [
       "(20, 6, 120, 37)"
      ]
     },
     "execution_count": 253,
     "metadata": {},
     "output_type": "execute_result"
    }
   ],
   "source": [
    "data_expo1.shape"
   ]
  },
  {
   "cell_type": "code",
   "execution_count": 245,
   "metadata": {},
   "outputs": [
    {
     "data": {
      "text/plain": [
       "(720, 37, 20)"
      ]
     },
     "execution_count": 245,
     "metadata": {},
     "output_type": "execute_result"
    }
   ],
   "source": [
    "corte_1_ np.concatenate(corte_1_.T)"
   ]
  },
  {
   "cell_type": "code",
   "execution_count": 238,
   "metadata": {},
   "outputs": [
    {
     "data": {
      "text/plain": [
       "(20, 37, 120, 6)"
      ]
     },
     "execution_count": 238,
     "metadata": {},
     "output_type": "execute_result"
    }
   ],
   "source": [
    "corte_1_.squeeze().shape"
   ]
  },
  {
   "cell_type": "code",
   "execution_count": 209,
   "metadata": {},
   "outputs": [],
   "source": [
    "corte_1_1 = np.concatenate()"
   ]
  },
  {
   "cell_type": "code",
   "execution_count": 210,
   "metadata": {},
   "outputs": [
    {
     "data": {
      "text/plain": [
       "(720, 37, 20)"
      ]
     },
     "execution_count": 210,
     "metadata": {},
     "output_type": "execute_result"
    }
   ],
   "source": [
    "corte_1_1.shape"
   ]
  },
  {
   "cell_type": "code",
   "execution_count": 191,
   "metadata": {},
   "outputs": [],
   "source": [
    "a = np.array(np.split(corte_1_1,740))"
   ]
  },
  {
   "cell_type": "code",
   "execution_count": 195,
   "metadata": {},
   "outputs": [
    {
     "data": {
      "text/plain": [
       "(88800, 6)"
      ]
     },
     "execution_count": 195,
     "metadata": {},
     "output_type": "execute_result"
    }
   ],
   "source": [
    "np.concatenate(np.concatenate(a)).shape"
   ]
  },
  {
   "cell_type": "code",
   "execution_count": 106,
   "metadata": {},
   "outputs": [],
   "source": [
    "pessoas_data =  np.split(np.array(por_pessoa_expo1_data).reshape(20*120,6,37),20*120)"
   ]
  },
  {
   "cell_type": "code",
   "execution_count": 87,
   "metadata": {},
   "outputs": [],
   "source": [
    "vetor_y = [str(classe+1) for classe in range(6)]"
   ]
  },
  {
   "cell_type": "code",
   "execution_count": 137,
   "metadata": {},
   "outputs": [],
   "source": [
    "pessoas_data_certo = [np.array(pessoas_data_error).reshape(6,37) for pessoas_data_error in pessoas_data]"
   ]
  },
  {
   "cell_type": "code",
   "execution_count": 138,
   "metadata": {},
   "outputs": [],
   "source": [
    "dataframe = pd.DataFrame(np.concatenate(pessoas_data_certo))\n",
    "dataframe = dataframe.reset_index()\n",
    "dataframe['index'] = dataframe['index'] % 6"
   ]
  },
  {
   "cell_type": "code",
   "execution_count": 139,
   "metadata": {},
   "outputs": [],
   "source": [
    "dataframe.columns = ['classe',       0,       1,       2,       3,       4,       5,       6,\n",
    "             7,       8,       9,      10,      11,      12,      13,      14,\n",
    "            15,      16,      17,      18,      19,      20,      21,      22,\n",
    "            23,      24,      25,      26,      27,      28,      29,      30,\n",
    "            31,      32,      33,      34,      35,      36]"
   ]
  },
  {
   "cell_type": "code",
   "execution_count": 141,
   "metadata": {},
   "outputs": [],
   "source": [
    "y = dataframe['classe']\n",
    "X = dataframe.drop('classe',1)"
   ]
  },
  {
   "cell_type": "code",
   "execution_count": 197,
   "metadata": {},
   "outputs": [],
   "source": [
    "from sklearn.naive_bayes import GaussianNB\n",
    "\n",
    "from sklearn.model_selection import train_test_split\n",
    "from sklearn.metrics import classification_report"
   ]
  },
  {
   "cell_type": "code",
   "execution_count": 200,
   "metadata": {},
   "outputs": [],
   "source": [
    "X_train, X_test, y_train, y_test = train_test_split(X, y, test_size=0.20, random_state=42)\n"
   ]
  },
  {
   "cell_type": "code",
   "execution_count": 202,
   "metadata": {},
   "outputs": [],
   "source": [
    "clf = GaussianNB()\n",
    "clf = clf.fit(X_train, y_train)"
   ]
  },
  {
   "cell_type": "code",
   "execution_count": 203,
   "metadata": {},
   "outputs": [],
   "source": [
    "y_pred = clf.predict(X_test)"
   ]
  },
  {
   "cell_type": "code",
   "execution_count": 207,
   "metadata": {},
   "outputs": [
    {
     "name": "stdout",
     "output_type": "stream",
     "text": [
      "              precision    recall  f1-score   support\n",
      "\n",
      "           0       0.17      0.07      0.10       485\n",
      "           1       0.19      0.24      0.21       472\n",
      "           2       0.17      0.45      0.25       481\n",
      "           3       0.18      0.10      0.13       483\n",
      "           4       0.23      0.09      0.13       467\n",
      "           5       0.18      0.14      0.16       492\n",
      "\n",
      "    accuracy                           0.18      2880\n",
      "   macro avg       0.19      0.18      0.16      2880\n",
      "weighted avg       0.19      0.18      0.16      2880\n",
      "\n"
     ]
    }
   ],
   "source": [
    "print(classification_report(y_test, y_pred))"
   ]
  },
  {
   "cell_type": "markdown",
   "metadata": {},
   "source": [
    "### EEG recordings and pre-processing\n",
    "\n",
    "EEG was recorded continuously from 64 ActiCap Electrodes (Brain Products) at 1000 Hz by a QuickAmp amplifier (Brain Products). All sites were referenced to FCz and grounded to AFz. The electrodes were positioned according to the International 10–10 system. Additional bipolar electrodes registered the electrooculogram (EOG).\n",
    "\n"
   ]
  },
  {
   "cell_type": "markdown",
   "metadata": {},
   "source": [
    "EEG pre-processing was carried out using BrainVision Analyzer (Brain Products). All data were down-sampled to 250 Hz and re-referenced to the average activity across electrodes. For eye movement artefact rejection, an independent component analysis (ICA) was performed on filtered (Butterworth Zero Phase Filter between 0.05.05 Hz and 30 Hz) and segmented (−200 to 2000 ms relative to S1) data. For the ICA, epochs were baselined based on the average activity of the entire trial. Eye related components were identified by comparing individual ICA components with EOG channels and by visual inspection. The average proportion of rejected trials for each participant corresponded to 0.0613. For all further analyses, epochs were baseline corrected based on the period between −200 ms and 0 ms relative to S1 presentation."
   ]
  },
  {
   "cell_type": "markdown",
   "metadata": {},
   "source": [
    "## 1 Sinais Originais"
   ]
  },
  {
   "cell_type": "code",
   "execution_count": null,
   "metadata": {},
   "outputs": [],
   "source": [
    "Sinais_originais =  merge_data.reshape(10780*64,240)"
   ]
  },
  {
   "cell_type": "code",
   "execution_count": null,
   "metadata": {},
   "outputs": [],
   "source": [
    "from sklearn.decomposition import PCA"
   ]
  },
  {
   "cell_type": "code",
   "execution_count": null,
   "metadata": {},
   "outputs": [],
   "source": [
    "pca = PCA().fit(Sinais_originais)\n",
    "plt.plot(np.cumsum(pca.explained_variance_ratio_))\n",
    "plt.xlabel('number of components')\n",
    "plt.ylabel('cumulative explained variance');\n",
    "\n"
   ]
  },
  {
   "cell_type": "markdown",
   "metadata": {},
   "source": [
    "## (2) PCA geral"
   ]
  },
  {
   "cell_type": "code",
   "execution_count": null,
   "metadata": {},
   "outputs": [],
   "source": [
    "def makePlot(data):\n",
    "    #fig = plt.figure()\n",
    "    pca = PCA().fit(data)\n",
    "    plt.plot(np.cumsum(pca.explained_variance_ratio_))\n",
    "    plt.xlabel('number of components')\n",
    "    plt.ylabel('cumulative explained variance');\n",
    "\n",
    "    return fig \n"
   ]
  },
  {
   "cell_type": "code",
   "execution_count": null,
   "metadata": {},
   "outputs": [],
   "source": [
    "por_canal = [merge_data[:,:,i] for i in range(64)]"
   ]
  },
  {
   "cell_type": "code",
   "execution_count": null,
   "metadata": {
    "scrolled": false
   },
   "outputs": [],
   "source": [
    "figuras = list(map(makePlot, por_canal))"
   ]
  },
  {
   "cell_type": "code",
   "execution_count": null,
   "metadata": {},
   "outputs": [],
   "source": [
    "figuras_0 = list(map(makePlot, por_canal))"
   ]
  },
  {
   "cell_type": "markdown",
   "metadata": {},
   "source": [
    "fig, ax = plt.subplots(8,8, figsize=(20,20))\n",
    "\n",
    "\n"
   ]
  },
  {
   "cell_type": "markdown",
   "metadata": {},
   "source": [
    "### Similarity between different trials and modalities\n",
    "\n",
    "To calculate the similarity across trials we used a bootstrap approach. For each participant and comparison of interest, data from all intervals that lasted at least 1.125 s were divided into two groups of trials and averaged across trials per group (Bueno et al., 2017). Then, for each time point, data from each split (two-row vectors with the averaged amplitude values of all 62 electrodes) were compared using a Pearson correlation. This procedure was repeated 5000 times for each participant and Fisher transformed coefficients were averaged across permutations for each participant and comparison of interest.\n",
    "\n",
    "At the group level, EEG-analyses were implemented non-parametrically (Maris and Oostenveld, 2007, Wolff et al., 2015) with sign-permutation tests. For each time-point, the Fisher transformed coefficients for a random half of the participants were multiplied by. The resulting distribution was used to calculate the p-value of the null-hypothesis that the mean value was equal to 0. Cluster-based permutation tests were then used to correct for multiple comparisons across time using 5000 permutations, with a cluster-forming threshold of p (Maris and Oostenveld, 2007). The sum of the values within a cluster was used as the cluster-level statistic. The significance threshold was set at p; all tests were one-sided.\n",
    "\n",
    "### Decoding the elapsed interval\n",
    "\n",
    "To investigate whether information about the elapsed interval could be decoded from activity across electrodes, we used a Naive Bayes classifier to perform a multiclass classification (Grootswagers et al., 2017). For all classifications, activity from the last 125 ms of the elapsed interval (−125 ms to 0 relative to S2) was averaged for each electrode. Data for each exposure (E1 and E2) were analysed separately. Intervals were divided into six equally sized bins (125 ms each)."
   ]
  }
 ],
 "metadata": {
  "kernelspec": {
   "display_name": "TensorFlow-GPU",
   "language": "python",
   "name": "tf-gpu"
  },
  "language_info": {
   "codemirror_mode": {
    "name": "ipython",
    "version": 3
   },
   "file_extension": ".py",
   "mimetype": "text/x-python",
   "name": "python",
   "nbconvert_exporter": "python",
   "pygments_lexer": "ipython3",
   "version": "3.6.9"
  }
 },
 "nbformat": 4,
 "nbformat_minor": 2
}
