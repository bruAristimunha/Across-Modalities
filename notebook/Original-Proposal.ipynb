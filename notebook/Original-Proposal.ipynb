{
 "cells": [
  {
   "cell_type": "markdown",
   "metadata": {},
   "source": [
    "# Abordagem Inicial \n",
    "\n",
    "## Objetivo \n",
    "\n",
    "### Propor método para:\n",
    "* encontrar representações comuns de diferentes modalidades sensoriais\n",
    "* aumentar a quantidade de dados utilizados para redução de dimensionalidade do sinal\n",
    "* melhorar a sensibilidade de análises MVPA posteriores \n",
    "\n",
    "### Inicialmente codificar cada instante de tempo (sem usar janelas no tempo)\n",
    "### Decodificar o momento que estava na mesma e na outra modalidade a partir do estado reduzido\n",
    "* Comparar com decodificação usando: (1) Sinais originais, (2) PCA geral, (3) PCA em cada ponto, (4) Auto-encoder\n",
    "\n"
   ]
  },
  {
   "cell_type": "markdown",
   "metadata": {},
   "source": [
    "### Importações necessárias para execução desse notebook"
   ]
  },
  {
   "cell_type": "code",
   "execution_count": 1,
   "metadata": {},
   "outputs": [],
   "source": [
    "%matplotlib inline\n",
    "import numpy as np\n",
    "import matplotlib.pyplot as plt\n",
    "import pandas as pd\n",
    "import seaborn as sns; sns.set()\n",
    "import sys\n",
    "\n",
    "from os import listdir\n",
    "from os.path import isfile, join\n",
    "\n",
    "from sklearn.decomposition import PCA\n",
    "\n",
    "sys.path.append(\"../src/data\")\n",
    "from myMNE import makeMNE"
   ]
  },
  {
   "cell_type": "markdown",
   "metadata": {},
   "source": [
    "### Carregando dados auditivos e visuais"
   ]
  },
  {
   "cell_type": "code",
   "execution_count": 2,
   "metadata": {},
   "outputs": [],
   "source": [
    "PATH_AUD = '../data/raw/aud'\n",
    "PATH_VIS = '../data/raw/vis'\n",
    "\n",
    "PATH_INFO = '../data/raw/info_'\n"
   ]
  },
  {
   "cell_type": "markdown",
   "metadata": {},
   "source": [
    "### Funções auxiliares para leitura do arquivo"
   ]
  },
  {
   "cell_type": "code",
   "execution_count": 3,
   "metadata": {},
   "outputs": [],
   "source": [
    "def files_in_path(path):\n",
    "    return [path+\"/\"+f for f in listdir(path) if isfile(join(path, f))]\n",
    "\n",
    "# Getting data from MNE strutuct\n",
    "\n",
    "\n",
    "def data_from_mne(files):\n",
    "    return np.array([file.get_data().T for file in files])"
   ]
  },
  {
   "cell_type": "code",
   "execution_count": 4,
   "metadata": {},
   "outputs": [],
   "source": [
    "# List of Files contained in the folder with path\n",
    "\n",
    "path_file_aud = files_in_path(PATH_AUD)\n",
    "path_file_vis = files_in_path(PATH_VIS)"
   ]
  },
  {
   "cell_type": "code",
   "execution_count": 5,
   "metadata": {},
   "outputs": [],
   "source": [
    "# Reading files with the MNE library\n",
    "\n",
    "files_aud = list(map(makeMNE, path_file_aud))\n",
    "files_vis = list(map(makeMNE, path_file_vis))"
   ]
  },
  {
   "cell_type": "code",
   "execution_count": 6,
   "metadata": {},
   "outputs": [],
   "source": [
    "# Getting data in numpy format\n",
    "\n",
    "data_aud = data_from_mne(files_aud)\n",
    "data_vis = data_from_mne(files_vis)"
   ]
  },
  {
   "cell_type": "markdown",
   "metadata": {},
   "source": [
    "### Checking the shape in arrays"
   ]
  },
  {
   "cell_type": "code",
   "execution_count": 7,
   "metadata": {},
   "outputs": [
    {
     "name": "stdout",
     "output_type": "stream",
     "text": [
      "Data Aud with shape: (20, 539, 64, 240) (individual, raw, channels, trial)\n",
      "Data Vis with shape: (20, 539, 64, 240) (individual, raw, channels, trial)\n"
     ]
    }
   ],
   "source": [
    "print(\"Data Aud with shape: {} (individual, raw, channels, trial)\".format(data_aud.shape))\n",
    "print(\"Data Vis with shape: {} (individual, raw, channels, trial)\".format(data_vis.shape))"
   ]
  },
  {
   "cell_type": "code",
   "execution_count": 8,
   "metadata": {},
   "outputs": [],
   "source": [
    "# Function to exposure separation:\n",
    "# by definition in trial odd are the first exposure, and trial even the second exposure\n",
    "\n",
    "def _exposure_1(data): \n",
    "    # [individual, raw, channels, trial]\n",
    "    return data[::, ::, ::, 0:: 2]\n",
    "\n",
    "def _exposure_2(data): \n",
    "    # [individual, raw, channels, trial]\n",
    "    return data[::, ::, ::, 1:: 2]"
   ]
  },
  {
   "cell_type": "code",
   "execution_count": 9,
   "metadata": {},
   "outputs": [],
   "source": [
    "## Splitting the exposures for all the individuals\n",
    "\n",
    "aud_expo_1 = _exposure_1(data_aud)\n",
    "\n",
    "aud_expo_2 = _exposure_2(data_aud) \n",
    "\n",
    "vis_expo_1 = _exposure_1(data_vis)\n",
    "\n",
    "vis_expo_2 = _exposure_2(data_vis)"
   ]
  },
  {
   "cell_type": "markdown",
   "metadata": {},
   "source": [
    "![recorte](../reports/figures/evaluate_trial.jpg)\n",
    "#### Figura 01: Como recortar os trials."
   ]
  },
  {
   "cell_type": "markdown",
   "metadata": {},
   "source": [
    "Na exposição 2 me parece que podemos considerar que os cortes e organização dos dados são iguais às da E1, isto é, começa com 39 pontos antes do estímulo e prossegue por 2000ms após o mesmo. O melhor é tirar 39 pontos do início ao invés de 38, pois assim sobram 500 pontos que equivalem exatamente aos 2000 ms do final.\n",
    "\n",
    "Mas o ponto mais importante é que estávamos fazendo os cortes errados. Para cada trial, devemo pegar *somente* os últimos 125 ms (31 pontos) e descartar todo o resto. Daí é tirada a média dos 31 valores de cada eletrodo, resultando em 64 valores por trial. Cada trial é então classificado de acordo com sua durações, podendo entrar para os grupos 1 a 6. \n",
    "\n"
   ]
  },
  {
   "cell_type": "code",
   "execution_count": 10,
   "metadata": {},
   "outputs": [],
   "source": [
    "# Auxiliary function to calculate the average in the bin\n",
    "\n",
    "\n",
    "def _average(frame):\n",
    "    return np.average(frame, axis=0)\n",
    "\n",
    "\n",
    "# Function for splitting and compute the average in the bins\n",
    "def six_bin(exposure, indice_exposure):\n",
    "    \"\"\"Splitting array in bins for the first exposure,\n",
    "    and compute the average\n",
    "\n",
    "    Parameters\n",
    "    ----------\n",
    "    exposure: numpy.array (3-dimensions) [raw, channels, trial]\n",
    "       Array containing data from an exposure.\n",
    "       \n",
    "    indice_exposure: numpy.array (1-dimension)\n",
    "       \n",
    "    Returns\n",
    "    -------\n",
    "\n",
    "    \"\"\"\n",
    "    # Indices\n",
    "\n",
    "    # ---------------------------------------------------------------------\n",
    "\n",
    "    # If the zero is not at the starting point just change the value.\n",
    "\n",
    "    # O melhor é tirar 39 pontos do início ao invés de 38,\n",
    "    # pois assim sobram 500 pontos que equivalem exatamente aos 2000 ms do final.\n",
    "    zero = 39\n",
    "\n",
    "    # Getting 2000 ms\n",
    "    exposure_without_zero = exposure[zero:]\n",
    "\n",
    "    \n",
    "    s2 = indice_exposure\n",
    "\n",
    "    media_por_trial = []\n",
    "    for trial, ind_s2 in list(zip(exposure_without_zero.T, s2)):\n",
    "\n",
    "        last_32_points = trial.T[int(ind_s2-32):int(ind_s2)]\n",
    "\n",
    "        #import pdb; pdb.set_trace()\n",
    "        media_por_trial.append(_average(last_32_points).reshape(-1)) #reshape para virar um vetor chapado\n",
    "    # ---------------------------------------------------------------------\n",
    "\n",
    "    return np.array(media_por_trial).T"
   ]
  },
  {
   "cell_type": "code",
   "execution_count": 11,
   "metadata": {},
   "outputs": [],
   "source": [
    "import scipy.io as sio\n",
    "\n",
    "\n",
    "def time_delay(name: str, export_as_indice=True):\n",
    "\n",
    "    info_path = PATH_INFO+name\n",
    "\n",
    "    infos = list(map(sio.loadmat, files_in_path(info_path)))\n",
    "    \n",
    "    por_pessoa = []\n",
    "    for info in infos:\n",
    "        \n",
    "        #import pdb; pdb.set_trace()\n",
    "        time_delay = info['report']['all_trials_delay'][0][0][0]\n",
    "        if(export_as_indice):\n",
    "        # second to milisecond, 4 from 250 Hz\n",
    "            valores = ((np.around((time_delay*250), decimals=0)))\n",
    "        else:\n",
    "            valores = time_delay\n",
    "            \n",
    "        por_pessoa.append(valores)\n",
    "        \n",
    "    return np.array(por_pessoa)\n",
    "\n"
   ]
  },
  {
   "cell_type": "code",
   "execution_count": 12,
   "metadata": {},
   "outputs": [],
   "source": [
    "indice_s2_vis = time_delay('vis')\n",
    "indice_s2_aud = time_delay('aud')"
   ]
  },
  {
   "cell_type": "code",
   "execution_count": 13,
   "metadata": {},
   "outputs": [],
   "source": [
    "time_s2_vis = time_delay('vis',export_as_indice=False)\n",
    "time_s2_aud = time_delay('aud',export_as_indice=False)"
   ]
  },
  {
   "cell_type": "code",
   "execution_count": 14,
   "metadata": {},
   "outputs": [],
   "source": [
    "def categoriza(valor):\n",
    "\n",
    "    momento = np.around(valor * 1000, decimals=0)\n",
    "    \n",
    "    #print(momento)\n",
    "    \n",
    "    if( (momento >=  750.0) and  (momento <  875.0) ):\n",
    "        return (1)\n",
    "    else:\n",
    "        if ( (momento >= 875) and (momento < 1000) ):\n",
    "            return (2)\n",
    "        else: \n",
    "            if ( (momento >= 1000) and  (momento < 1125) ):\n",
    "                return (3)\n",
    "            else: \n",
    "                if ( (momento >= 1125)  and (momento < 1250) ):\n",
    "                    return (4)\n",
    "                else: \n",
    "                    if ( (momento >= 1250)  and (momento < 1375) ):\n",
    "                        return (5)\n",
    "                    else: \n",
    "                        if ( (momento >= 1375)  and (momento <= 1520) ):\n",
    "                            return (6)\n",
    "                        \n",
    "    return -1"
   ]
  },
  {
   "cell_type": "code",
   "execution_count": 15,
   "metadata": {},
   "outputs": [],
   "source": [
    "classes_vis = [pd.DataFrame(time_s2_vis)[i].apply(categoriza) for i in range(120)]\n",
    "classes_aud = [pd.DataFrame(time_s2_aud)[i].apply(categoriza) for i in range(120)]"
   ]
  },
  {
   "cell_type": "code",
   "execution_count": 16,
   "metadata": {},
   "outputs": [],
   "source": [
    "classes_vis = pd.DataFrame(classes_vis).T\n",
    "classes_aud = pd.DataFrame(classes_aud).T\n"
   ]
  },
  {
   "cell_type": "markdown",
   "metadata": {},
   "source": [
    "### Average in the bins\n",
    "----"
   ]
  },
  {
   "cell_type": "code",
   "execution_count": 17,
   "metadata": {},
   "outputs": [],
   "source": [
    "aud_expo_1_frames = list(map(six_bin, aud_expo_1, indice_s2_aud))\n",
    "vis_expo_1_frames = list(map(six_bin, vis_expo_1, indice_s2_vis))\n",
    "\n",
    "\n",
    "aud_expo_2_frames = list(map(six_bin, aud_expo_2, indice_s2_vis))\n",
    "vis_expo_2_frames = list(map(six_bin, vis_expo_2, indice_s2_aud))"
   ]
  },
  {
   "cell_type": "markdown",
   "metadata": {},
   "source": [
    "----"
   ]
  },
  {
   "cell_type": "markdown",
   "metadata": {},
   "source": [
    "## Com isso, iremos para o próximo passo, que consiste de aplicar o PCA para reduzir as dimensões redudantes presentes nos múltiplos canais.\n",
    "\n",
    "Não realizamos nesse momento a separação do conjunto treino-teste, seguindo o autor original."
   ]
  },
  {
   "cell_type": "markdown",
   "metadata": {},
   "source": [
    "\n",
    "![aquisicao](https://raw.githubusercontent.com/bruAristimunha/Across-Modalities/master/reports/figures/mapa_rapha.jpg)\n",
    "#### Figura 01: Diagrama de Reunião de Orientação. O ponto de interesse está na tabela para aplicação do PCA. Segundo os autores, eles empregaram em média 32 componentes +- 1\n",
    "\n",
    "\n",
    "------------------------------------\n",
    "\n",
    "# Studying of the number of components"
   ]
  },
  {
   "cell_type": "code",
   "execution_count": 18,
   "metadata": {},
   "outputs": [],
   "source": [
    "def myPCA(data: np.array, return_data=False, n_components=0.99):\n",
    "\n",
    "    pca_ = PCA(random_state=42, svd_solver='full', n_components=n_components)\n",
    "    \n",
    "    data = data.T\n",
    "    #print(data.shape)\n",
    "\n",
    "    data_ft = pca_.fit_transform(data)\n",
    "\n",
    "    if(return_data):\n",
    "        return data_ft\n",
    "    else:\n",
    "        return pca_"
   ]
  },
  {
   "cell_type": "code",
   "execution_count": 19,
   "metadata": {},
   "outputs": [],
   "source": [
    "def myPCA_method(data): \n",
    "    return myPCA(data, return_data=False)\n",
    "def myPCA_data(data): \n",
    "    return myPCA(data, return_data=True)"
   ]
  },
  {
   "cell_type": "code",
   "execution_count": 20,
   "metadata": {},
   "outputs": [],
   "source": [
    "pcas = []\n",
    "\n",
    "for person in aud_expo_1_frames:\n",
    "    method_pca = myPCA_method(person)\n",
    "    pcas.append(method_pca)\n",
    "    \n",
    "for person in vis_expo_1_frames:\n",
    "    method_pca = myPCA_method(person)\n",
    "    pcas.append(method_pca)\n",
    "    \n",
    "for person in aud_expo_2_frames:\n",
    "    method_pca = myPCA_method(person)\n",
    "    pcas.append(method_pca)\n",
    "    \n",
    "for person in vis_expo_2_frames:\n",
    "    method_pca = myPCA_method(person)\n",
    "    pcas.append(method_pca)"
   ]
  },
  {
   "cell_type": "markdown",
   "metadata": {},
   "source": [
    "-------"
   ]
  },
  {
   "cell_type": "code",
   "execution_count": 21,
   "metadata": {},
   "outputs": [],
   "source": [
    "import matplotlib.pylab as plt\n",
    "import matplotlib\n",
    "\n",
    "font = {'weight' : 'bold',\n",
    "        'size'   : 18}\n",
    "\n",
    "matplotlib.rc('font', **font)"
   ]
  },
  {
   "cell_type": "code",
   "execution_count": 22,
   "metadata": {},
   "outputs": [
    {
     "data": {
      "image/png": "[encoded data removed]",
      "text/plain": [
       "<Figure size 720x1800 with 2 Axes>"
      ]
     },
     "metadata": {},
     "output_type": "display_data"
    }
   ],
   "source": [
    "fig, ax = plt.subplots(nrows=2, figsize=(10, 25))\n",
    "method_pca = np.array(pcas).reshape(-1)\n",
    "componentes = [pc.n_components_ for pc in method_pca]\n",
    "\n",
    "for pc in method_pca:\n",
    "\n",
    "    ax[0].plot(np.arange(1, pc.n_components_ + 1),\n",
    "             pc.explained_variance_ratio_, '+', linewidth=2)\n",
    "    ax[0].set_ylabel('Explicação da variação do PCA')\n",
    "\n",
    "ax[1] = sns.boxplot(componentes,orient='vert',ax=ax[1])\n",
    "ax[1].set_title(\"média {media:.5}, desvio padrao {std:.2}, maximo {maxi}, minimo {mini}\".format(\n",
    "                                                                        media = np.mean(componentes),\n",
    "                                                                        std   = np.std(componentes), \n",
    "                                                                        maxi  = np.max(componentes),\n",
    "                                                                        mini  = np.min(componentes)))\n",
    "plt.show()"
   ]
  },
  {
   "cell_type": "markdown",
   "metadata": {},
   "source": [
    "## Escolhemos $46$ como o número de componentes, sendo esse o número máximo de componentes necessários para explicar 99% dos dados."
   ]
  },
  {
   "cell_type": "code",
   "execution_count": 23,
   "metadata": {},
   "outputs": [],
   "source": [
    "def myPCA_47_comp(data, n_components = 47): \n",
    "    return myPCA(data, return_data=True, n_components=n_components)"
   ]
  },
  {
   "cell_type": "code",
   "execution_count": 24,
   "metadata": {},
   "outputs": [],
   "source": [
    "#####################################################################    \n",
    "\n",
    "X_aud_expo_1_frames = []\n",
    "\n",
    "for person in aud_expo_1_frames:\n",
    "\n",
    "    data_pca = myPCA_47_comp(person)\n",
    "    X_aud_expo_1_frames.append(data_pca)\n",
    "#####################################################################    \n",
    "\n",
    "X_aud_expo_2_frames = []\n",
    "\n",
    "\n",
    "for person in aud_expo_2_frames:\n",
    "\n",
    "    data_pca = myPCA_47_comp(person)\n",
    "    X_aud_expo_2_frames.append(data_pca)\n",
    "    \n",
    "#####################################################################\n",
    "\n",
    "X_vis_expo_1_frames = []\n",
    "\n",
    "for person in vis_expo_1_frames:\n",
    "\n",
    "    data_pca = myPCA_47_comp(person)\n",
    "    X_vis_expo_1_frames.append(data_pca)\n",
    "    \n",
    "#####################################################################    \n",
    "        \n",
    "X_vis_expo_2_frames = []\n",
    "\n",
    "for person in vis_expo_2_frames:\n",
    "\n",
    "    data_pca = myPCA_47_comp(person)\n",
    "    X_vis_expo_2_frames.append(data_pca)\n",
    "    \n",
    "#####################################################################        \n",
    "    \n",
    "    "
   ]
  },
  {
   "cell_type": "code",
   "execution_count": 25,
   "metadata": {},
   "outputs": [],
   "source": [
    "def to_DataFrame(X :list, classe)-> pd.DataFrame:\n",
    "        \n",
    "    X_preDataFrame = np.concatenate(np.array(X),axis=0)\n",
    "    \n",
    "    dataframe = pd.DataFrame(X_preDataFrame)\n",
    "    \n",
    "    dataframe = dataframe.reset_index()\n",
    "    \n",
    "    dataframe['person'] = (dataframe['index'] % 20)+1\n",
    "    \n",
    "    dataframe['trial'] = (dataframe['index'] % 120)+1\n",
    "    #import pdb; pdb.set_trace()\n",
    "    \n",
    "    dataframe['class'] = np.concatenate(classe.values).reshape(-1)\n",
    "    \n",
    "    dataframe = dataframe.drop('index',1)\n",
    "    \n",
    "    return dataframe"
   ]
  },
  {
   "cell_type": "code",
   "execution_count": 26,
   "metadata": {},
   "outputs": [],
   "source": [
    "df_vis_1 = to_DataFrame(X_vis_expo_1_frames,classes_vis)\n",
    "df_vis_2 = to_DataFrame(X_vis_expo_2_frames,classes_vis)\n",
    "\n",
    "df_aud_1 = to_DataFrame(X_aud_expo_1_frames,classes_aud)\n",
    "df_aud_2 = to_DataFrame(X_aud_expo_2_frames,classes_aud)"
   ]
  },
  {
   "cell_type": "code",
   "execution_count": 27,
   "metadata": {},
   "outputs": [],
   "source": [
    "df_vis_1.to_csv(\"../data/processed/visual_exposure_1.csv\",index=None)\n",
    "df_vis_2.to_csv(\"../data/processed/visual_exposure_2.csv\",index=None)\n",
    "\n",
    "df_aud_1.to_csv(\"../data/processed/auditory_exposure_1.csv\",index=None)\n",
    "df_aud_2.to_csv(\"../data/processed/auditory_exposure_2.csv\",index=None)\n"
   ]
  },
  {
   "cell_type": "code",
   "execution_count": 28,
   "metadata": {},
   "outputs": [],
   "source": [
    "import pandas as pd \n",
    "df_vis_1 = pd.read_csv(\"../data/processed/visual_exposure_1.csv\")\n",
    "df_vis_2 = pd.read_csv(\"../data/processed/visual_exposure_2.csv\")\n",
    "\n",
    "df_aud_1 = pd.read_csv(\"../data/processed/auditory_exposure_1.csv\")\n",
    "df_aud_2 = pd.read_csv(\"../data/processed/auditory_exposure_2.csv\")\n"
   ]
  },
  {
   "cell_type": "code",
   "execution_count": 29,
   "metadata": {},
   "outputs": [],
   "source": [
    "from sklearn.naive_bayes import GaussianNB\n",
    "\n",
    "from sklearn.metrics import classification_report\n",
    "\n"
   ]
  },
  {
   "cell_type": "code",
   "execution_count": 30,
   "metadata": {},
   "outputs": [],
   "source": [
    "from tqdm.autonotebook import tqdm"
   ]
  },
  {
   "cell_type": "code",
   "execution_count": 31,
   "metadata": {},
   "outputs": [],
   "source": [
    "from sklearn.model_selection import LeaveOneOut\n",
    "\n",
    "def makeCatPlot(df, categoria, exposicao):\n",
    "    df_result = []\n",
    "\n",
    "    X = df.drop(['person',  'trial', 'class'],1)\n",
    "    y = df['class']\n",
    "    loo = LeaveOneOut()\n",
    "    pbar = tqdm( total=loo.get_n_splits(X))\n",
    "    \n",
    "    for train_index, test_index in loo.split(X):\n",
    "        \n",
    "        X_train, X_test = X.iloc[train_index], X.iloc[test_index]\n",
    "        y_train, y_test = y.iloc[train_index], y.iloc[test_index]\n",
    "        \n",
    "        clf = GaussianNB()\n",
    "        clf = clf.fit(X_train, y_train)\n",
    "\n",
    "        y_pred = clf.predict(X_test)\n",
    "        #import pdb; pdb.set_trace()\n",
    "        df_result.append([y_pred,y_test.values,categoria,exposicao])\n",
    "        pbar.update(1)\n",
    "    return df_result"
   ]
  },
  {
   "cell_type": "code",
   "execution_count": 32,
   "metadata": {},
   "outputs": [
    {
     "data": {
      "application/vnd.jupyter.widget-view+json": {
       "model_id": "dcae305b6e35421e82091a5631e46cb2",
       "version_major": 2,
       "version_minor": 0
      },
      "text/plain": [
       "HBox(children=(FloatProgress(value=0.0, max=2400.0), HTML(value='')))"
      ]
     },
     "metadata": {},
     "output_type": "display_data"
    }
   ],
   "source": [
    "resu_vis_1 = makeCatPlot(df_vis_1,'Visual','E1')"
   ]
  },
  {
   "cell_type": "code",
   "execution_count": 33,
   "metadata": {},
   "outputs": [
    {
     "data": {
      "application/vnd.jupyter.widget-view+json": {
       "model_id": "02df678cd5d3410288f4d2641d588297",
       "version_major": 2,
       "version_minor": 0
      },
      "text/plain": [
       "HBox(children=(FloatProgress(value=0.0, max=2400.0), HTML(value='')))"
      ]
     },
     "metadata": {},
     "output_type": "display_data"
    }
   ],
   "source": [
    "resu_vis_2 = makeCatPlot(df_vis_2,'Visual','E2')"
   ]
  },
  {
   "cell_type": "code",
   "execution_count": 34,
   "metadata": {},
   "outputs": [
    {
     "data": {
      "application/vnd.jupyter.widget-view+json": {
       "model_id": "4d680bc0dee043d6b219b7e5737cd989",
       "version_major": 2,
       "version_minor": 0
      },
      "text/plain": [
       "HBox(children=(FloatProgress(value=0.0, max=2400.0), HTML(value='')))"
      ]
     },
     "metadata": {},
     "output_type": "display_data"
    }
   ],
   "source": [
    "resu_aud_1 = makeCatPlot(df_aud_1,'Auditory','E1')"
   ]
  },
  {
   "cell_type": "code",
   "execution_count": 35,
   "metadata": {},
   "outputs": [
    {
     "data": {
      "application/vnd.jupyter.widget-view+json": {
       "model_id": "c66a9bbf226b43aea1e122dfbbad8226",
       "version_major": 2,
       "version_minor": 0
      },
      "text/plain": [
       "HBox(children=(FloatProgress(value=0.0, max=2400.0), HTML(value='')))"
      ]
     },
     "metadata": {},
     "output_type": "display_data"
    }
   ],
   "source": [
    "resu_aud_2 = makeCatPlot(df_aud_2,'Auditory','E2')"
   ]
  },
  {
   "cell_type": "code",
   "execution_count": 36,
   "metadata": {},
   "outputs": [],
   "source": [
    "merge = np.concatenate([resu_vis_1,resu_vis_2, resu_aud_1, resu_aud_2])"
   ]
  },
  {
   "cell_type": "code",
   "execution_count": 37,
   "metadata": {},
   "outputs": [],
   "source": [
    "plotar = pd.DataFrame(merge)"
   ]
  },
  {
   "cell_type": "code",
   "execution_count": 38,
   "metadata": {},
   "outputs": [],
   "source": [
    "plotar.to_csv(\"../data/processed/resu_fig5.csv\",index=None)"
   ]
  },
  {
   "cell_type": "code",
   "execution_count": 39,
   "metadata": {},
   "outputs": [],
   "source": [
    "plotar[0] = plotar[0].astype(int)\n",
    "plotar[1] = plotar[1].astype(int)"
   ]
  },
  {
   "cell_type": "code",
   "execution_count": 40,
   "metadata": {},
   "outputs": [],
   "source": [
    "plotar.columns = ['Predicted Bin','Real Bin','Modality','Exposures']"
   ]
  },
  {
   "cell_type": "code",
   "execution_count": 41,
   "metadata": {},
   "outputs": [],
   "source": [
    "#Vermelho auditory\n",
    "#Azul Visual\n"
   ]
  },
  {
   "cell_type": "code",
   "execution_count": 42,
   "metadata": {},
   "outputs": [],
   "source": [
    "exposicao1 = plotar[plotar['Exposures']=='E1']\n",
    "\n",
    "exposicao1_aud = exposicao1[exposicao1['Modality']=='Auditory']\n",
    "exposicao1_vis = exposicao1[exposicao1['Modality']=='Visual']\n",
    "\n",
    "\n",
    "exposicao2 = plotar[plotar['Exposures']=='E2']\n",
    "\n",
    "exposicao2_aud = exposicao2[exposicao2['Modality']=='Auditory']\n",
    "exposicao2_vis = exposicao2[exposicao2['Modality']=='Visual']\n"
   ]
  },
  {
   "cell_type": "code",
   "execution_count": 43,
   "metadata": {},
   "outputs": [
    {
     "data": {
      "text/plain": [
       "<matplotlib.axes._subplots.AxesSubplot at 0x7f9c29154dd8>"
      ]
     },
     "execution_count": 43,
     "metadata": {},
     "output_type": "execute_result"
    },
    {
     "data": {
      "image/png": "[encoded data removed]",
      "text/plain": [
       "<Figure size 432x288 with 1 Axes>"
      ]
     },
     "metadata": {},
     "output_type": "display_data"
    }
   ],
   "source": [
    "exposicao1_aud['Predicted Bin'].plot.hist()"
   ]
  },
  {
   "cell_type": "code",
   "execution_count": 44,
   "metadata": {},
   "outputs": [
    {
     "data": {
      "image/png": "[encoded data removed]",
      "text/plain": [
       "<Figure size 720x720 with 4 Axes>"
      ]
     },
     "metadata": {},
     "output_type": "display_data"
    }
   ],
   "source": [
    "import seaborn as sns\n",
    "sns.set(style='white')\n",
    "\n",
    "fig, ax = plt.subplots(figsize=(10, 10), nrows=2,\n",
    "                       ncols=2, sharex=True, sharey=True)\n",
    "\n",
    "g = sns.catplot(x='Real Bin', y='Predicted Bin', hue='Modality',\n",
    "                capsize=.5, palette=['#de0000'], height=10, aspect=1,\n",
    "                kind=\"point\", data=exposicao1_aud, sharey=False, sharex=False, seed=42, ax=ax[0][0])\n",
    "\n",
    "plt.close(g.fig)\n",
    "\n",
    "\n",
    "ax[0][0].set(ylim=(0.5, 6.5))\n",
    "ax[0][0].set(ylabel=\"E1\", xlabel=\"\")\n",
    "\n",
    "g = sns.catplot(x='Real Bin', y='Predicted Bin', hue='Modality',\n",
    "                capsize=.5, palette=['#001a8d'], height=10, aspect=1,\n",
    "                kind=\"point\", data=exposicao1_vis, sharey=True, sharex=True, seed=42, ax=ax[0][1])\n",
    "ax[0][1].set(ylabel=\"\", xlabel='')\n",
    "plt.close(g.fig)\n",
    "g = sns.catplot(x='Real Bin', y='Predicted Bin', hue='Modality',\n",
    "                capsize=.5, palette=['#de0000'], height=10, aspect=1,\n",
    "                kind=\"point\", data=exposicao2_aud, sharey=False, sharex=False, seed=42, ax=ax[1][0])\n",
    "ax[1][0].set(ylim=(0.5, 6.5))\n",
    "ax[1][0].set(ylabel=\"E2\", xlabel=\"\")\n",
    "plt.close(g.fig)\n",
    "g = sns.catplot(x='Real Bin', y='Predicted Bin', hue='Modality',\n",
    "                capsize=.5, palette=['#001a8d'], height=10, aspect=1,\n",
    "                kind=\"point\", data=exposicao2_vis, sharey=False, sharex=False, seed=42, ax=ax[1][1])\n",
    "plt.close(g.fig)\n",
    "ax[1][1].set(ylim=(0.5, 6.5))\n",
    "ax[1][1].set(ylabel=\"\", xlabel='')\n",
    "\n",
    "\n",
    "fig.tight_layout()\n",
    "fig.text(0.5, -0.02, 'Real Bin', ha='center')\n",
    "fig.text(-0.02, 0.5, 'Predicted Bin', va='center', rotation='vertical')\n",
    "\n",
    "plt.show()"
   ]
  },
  {
   "cell_type": "code",
   "execution_count": 45,
   "metadata": {},
   "outputs": [
    {
     "name": "stdout",
     "output_type": "stream",
     "text": [
      "Classificação nos Dados Visual, exposição 1\n",
      "              precision    recall  f1-score   support\n",
      "\n",
      "           1       0.60      0.21      0.31      1085\n",
      "           2       0.13      0.19      0.15       280\n",
      "           3       0.04      0.14      0.07       118\n",
      "           4       0.07      0.15      0.09       194\n",
      "           5       0.08      0.15      0.10       190\n",
      "           6       0.28      0.22      0.25       533\n",
      "\n",
      "    accuracy                           0.20      2400\n",
      "   macro avg       0.20      0.18      0.16      2400\n",
      "weighted avg       0.36      0.20      0.23      2400\n",
      "\n"
     ]
    }
   ],
   "source": [
    "print(\"Classificação nos Dados Visual, exposição 1\")\n",
    "\n",
    "y_test = exposicao1_vis['Predicted Bin'].values\n",
    "y_pred = exposicao1_vis['Real Bin'].values\n",
    "\n",
    "\n",
    "print(classification_report(y_test, y_pred))"
   ]
  },
  {
   "cell_type": "code",
   "execution_count": 46,
   "metadata": {},
   "outputs": [
    {
     "name": "stdout",
     "output_type": "stream",
     "text": [
      "Classificação nos Dados Visual, exposição 2\n",
      "              precision    recall  f1-score   support\n",
      "\n",
      "           1       0.14      0.17      0.15       311\n",
      "           2       0.07      0.11      0.09       270\n",
      "           3       0.05      0.10      0.07       186\n",
      "           4       0.43      0.19      0.26      1026\n",
      "           5       0.07      0.15      0.10       167\n",
      "           6       0.17      0.16      0.16       440\n",
      "\n",
      "    accuracy                           0.16      2400\n",
      "   macro avg       0.16      0.15      0.14      2400\n",
      "weighted avg       0.25      0.16      0.18      2400\n",
      "\n"
     ]
    }
   ],
   "source": [
    "print(\"Classificação nos Dados Visual, exposição 2\")\n",
    "\n",
    "y_test = exposicao2_vis['Predicted Bin'].values\n",
    "y_pred = exposicao2_vis['Real Bin'].values\n",
    "\n",
    "\n",
    "print(classification_report(y_test, y_pred))"
   ]
  },
  {
   "cell_type": "code",
   "execution_count": 47,
   "metadata": {},
   "outputs": [
    {
     "name": "stdout",
     "output_type": "stream",
     "text": [
      "Classificação nos Dados Auditivo, exposição 1\n",
      "              precision    recall  f1-score   support\n",
      "\n",
      "           1       0.39      0.18      0.25       795\n",
      "           2       0.22      0.17      0.19       531\n",
      "           3       0.09      0.21      0.13       165\n",
      "           4       0.11      0.24      0.15       185\n",
      "           5       0.06      0.12      0.08       188\n",
      "           6       0.30      0.24      0.26       536\n",
      "\n",
      "    accuracy                           0.20      2400\n",
      "   macro avg       0.19      0.20      0.18      2400\n",
      "weighted avg       0.26      0.20      0.21      2400\n",
      "\n"
     ]
    }
   ],
   "source": [
    "print(\"Classificação nos Dados Auditivo, exposição 1\")\n",
    "y_test = exposicao1_aud['Predicted Bin'].values\n",
    "y_pred = exposicao1_aud['Real Bin'].values\n",
    "\n",
    "print(classification_report(y_test, y_pred))"
   ]
  },
  {
   "cell_type": "code",
   "execution_count": 48,
   "metadata": {},
   "outputs": [
    {
     "name": "stdout",
     "output_type": "stream",
     "text": [
      "Classificação nos Dados Auditivo, exposição 2\n",
      "              precision    recall  f1-score   support\n",
      "\n",
      "           1       0.13      0.15      0.14       310\n",
      "           2       0.21      0.17      0.18       518\n",
      "           3       0.10      0.17      0.13       230\n",
      "           4       0.24      0.20      0.22       514\n",
      "           5       0.06      0.11      0.08       186\n",
      "           6       0.26      0.17      0.21       642\n",
      "\n",
      "    accuracy                           0.17      2400\n",
      "   macro avg       0.17      0.16      0.16      2400\n",
      "weighted avg       0.20      0.17      0.18      2400\n",
      "\n"
     ]
    }
   ],
   "source": [
    "print(\"Classificação nos Dados Auditivo, exposição 2\")\n",
    "y_test = exposicao2_aud['Predicted Bin'].values\n",
    "y_pred = exposicao2_aud['Real Bin'].values\n",
    "print(classification_report(y_test, y_pred))"
   ]
  },
  {
   "cell_type": "markdown",
   "metadata": {},
   "source": [
    "### EEG recordings and pre-processing\n",
    "\n",
    "EEG was recorded continuously from 64 ActiCap Electrodes (Brain Products) at 1000 Hz by a QuickAmp amplifier (Brain Products). All sites were referenced to FCz and grounded to AFz. The electrodes were positioned according to the International 10–10 system. Additional bipolar electrodes registered the electrooculogram (EOG).\n",
    "\n"
   ]
  },
  {
   "cell_type": "markdown",
   "metadata": {},
   "source": [
    "EEG pre-processing was carried out using BrainVision Analyzer (Brain Products). All data were down-sampled to 250 Hz and re-referenced to the average activity across electrodes. For eye movement artefact rejection, an independent component analysis (ICA) was performed on filtered (Butterworth Zero Phase Filter between 0.05.05 Hz and 30 Hz) and segmented (−200 to 2000 ms relative to S1) data. For the ICA, epochs were baselined based on the average activity of the entire trial. Eye related components were identified by comparing individual ICA components with EOG channels and by visual inspection. The average proportion of rejected trials for each participant corresponded to 0.0613. For all further analyses, epochs were baseline corrected based on the period between −200 ms and 0 ms relative to S1 presentation."
   ]
  },
  {
   "cell_type": "markdown",
   "metadata": {},
   "source": [
    "### Similarity between different trials and modalities\n",
    "\n",
    "To calculate the similarity across trials we used a bootstrap approach. For each participant and comparison of interest, data from all intervals that lasted at least 1.125 s were divided into two groups of trials and averaged across trials per group (Bueno et al., 2017). Then, for each time point, data from each split (two-row vectors with the averaged amplitude values of all 62 electrodes) were compared using a Pearson correlation. This procedure was repeated 5000 times for each participant and Fisher transformed coefficients were averaged across permutations for each participant and comparison of interest.\n",
    "\n",
    "At the group level, EEG-analyses were implemented non-parametrically (Maris and Oostenveld, 2007, Wolff et al., 2015) with sign-permutation tests. For each time-point, the Fisher transformed coefficients for a random half of the participants were multiplied by. The resulting distribution was used to calculate the p-value of the null-hypothesis that the mean value was equal to 0. Cluster-based permutation tests were then used to correct for multiple comparisons across time using 5000 permutations, with a cluster-forming threshold of p (Maris and Oostenveld, 2007). The sum of the values within a cluster was used as the cluster-level statistic. The significance threshold was set at p; all tests were one-sided.\n",
    "\n",
    "### Decoding the elapsed interval\n",
    "\n",
    "To investigate whether information about the elapsed interval could be decoded from activity across electrodes, we used a Naive Bayes classifier to perform a multiclass classification (Grootswagers et al., 2017). For all classifications, activity from the last 125 ms of the elapsed interval (−125 ms to 0 relative to S2) was averaged for each electrode. Data for each exposure (E1 and E2) were analysed separately. Intervals were divided into six equally sized bins (125 ms each)."
   ]
  }
 ],
 "metadata": {
  "kernelspec": {
   "display_name": "TensorFlow-GPU",
   "language": "python",
   "name": "tf-gpu"
  },
  "language_info": {
   "codemirror_mode": {
    "name": "ipython",
    "version": 3
   },
   "file_extension": ".py",
   "mimetype": "text/x-python",
   "name": "python",
   "nbconvert_exporter": "python",
   "pygments_lexer": "ipython3",
   "version": "3.6.9"
  }
 },
 "nbformat": 4,
 "nbformat_minor": 2
}
